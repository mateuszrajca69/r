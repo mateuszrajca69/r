{
  "nbformat": 4,
  "nbformat_minor": 0,
  "metadata": {
    "colab": {
      "name": "ryan.13.10.ipynb",
      "provenance": [],
      "collapsed_sections": [],
      "authorship_tag": "ABX9TyNcPEkN2UyxI0A2C/c7xxXT",
      "include_colab_link": true
    },
    "kernelspec": {
      "name": "python3",
      "display_name": "Python 3"
    },
    "language_info": {
      "name": "python"
    }
  },
  "cells": [
    {
      "cell_type": "markdown",
      "metadata": {
        "id": "view-in-github",
        "colab_type": "text"
      },
      "source": [
        "<a href=\"https://colab.research.google.com/github/mateuszrajca69/r/blob/main/ryan_13_10.ipynb\" target=\"_parent\"><img src=\"https://colab.research.google.com/assets/colab-badge.svg\" alt=\"Open In Colab\"/></a>"
      ]
    },
    {
      "cell_type": "code",
      "metadata": {
        "id": "da5I8mZdFOqQ"
      },
      "source": [
        "import pandas as pd\n",
        "from io import StringIO"
      ],
      "execution_count": 52,
      "outputs": []
    },
    {
      "cell_type": "code",
      "metadata": {
        "colab": {
          "base_uri": "https://localhost:8080/",
          "height": 142
        },
        "id": "YWYAC55PGEfF",
        "outputId": "b908f05f-fce9-4071-f6bf-3e4ff4f9a0ab"
      },
      "source": [
        "dane = \\\n",
        "''',A,B,C,D,E,F,G,H,I,J\n",
        "0,1.0,2.0,3.0,4.0,5.0,,7.0,,9.0,10.0\n",
        "1,11.0,12.0,,,15.0,16.0,,18.0,19.0,\n",
        "2,,22.0,23.0,24.0,25.0,,,,29.0,30.0'''\n",
        "df = pd.read_csv(StringIO(dane))\n",
        "df"
      ],
      "execution_count": 53,
      "outputs": [
        {
          "output_type": "execute_result",
          "data": {
            "text/html": [
              "<div>\n",
              "<style scoped>\n",
              "    .dataframe tbody tr th:only-of-type {\n",
              "        vertical-align: middle;\n",
              "    }\n",
              "\n",
              "    .dataframe tbody tr th {\n",
              "        vertical-align: top;\n",
              "    }\n",
              "\n",
              "    .dataframe thead th {\n",
              "        text-align: right;\n",
              "    }\n",
              "</style>\n",
              "<table border=\"1\" class=\"dataframe\">\n",
              "  <thead>\n",
              "    <tr style=\"text-align: right;\">\n",
              "      <th></th>\n",
              "      <th>Unnamed: 0</th>\n",
              "      <th>A</th>\n",
              "      <th>B</th>\n",
              "      <th>C</th>\n",
              "      <th>D</th>\n",
              "      <th>E</th>\n",
              "      <th>F</th>\n",
              "      <th>G</th>\n",
              "      <th>H</th>\n",
              "      <th>I</th>\n",
              "      <th>J</th>\n",
              "    </tr>\n",
              "  </thead>\n",
              "  <tbody>\n",
              "    <tr>\n",
              "      <th>0</th>\n",
              "      <td>0</td>\n",
              "      <td>1.0</td>\n",
              "      <td>2.0</td>\n",
              "      <td>3.0</td>\n",
              "      <td>4.0</td>\n",
              "      <td>5.0</td>\n",
              "      <td>NaN</td>\n",
              "      <td>7.0</td>\n",
              "      <td>NaN</td>\n",
              "      <td>9.0</td>\n",
              "      <td>10.0</td>\n",
              "    </tr>\n",
              "    <tr>\n",
              "      <th>1</th>\n",
              "      <td>1</td>\n",
              "      <td>11.0</td>\n",
              "      <td>12.0</td>\n",
              "      <td>NaN</td>\n",
              "      <td>NaN</td>\n",
              "      <td>15.0</td>\n",
              "      <td>16.0</td>\n",
              "      <td>NaN</td>\n",
              "      <td>18.0</td>\n",
              "      <td>19.0</td>\n",
              "      <td>NaN</td>\n",
              "    </tr>\n",
              "    <tr>\n",
              "      <th>2</th>\n",
              "      <td>2</td>\n",
              "      <td>NaN</td>\n",
              "      <td>22.0</td>\n",
              "      <td>23.0</td>\n",
              "      <td>24.0</td>\n",
              "      <td>25.0</td>\n",
              "      <td>NaN</td>\n",
              "      <td>NaN</td>\n",
              "      <td>NaN</td>\n",
              "      <td>29.0</td>\n",
              "      <td>30.0</td>\n",
              "    </tr>\n",
              "  </tbody>\n",
              "</table>\n",
              "</div>"
            ],
            "text/plain": [
              "   Unnamed: 0     A     B     C     D     E     F    G     H     I     J\n",
              "0           0   1.0   2.0   3.0   4.0   5.0   NaN  7.0   NaN   9.0  10.0\n",
              "1           1  11.0  12.0   NaN   NaN  15.0  16.0  NaN  18.0  19.0   NaN\n",
              "2           2   NaN  22.0  23.0  24.0  25.0   NaN  NaN   NaN  29.0  30.0"
            ]
          },
          "metadata": {},
          "execution_count": 53
        }
      ]
    },
    {
      "cell_type": "code",
      "metadata": {
        "colab": {
          "base_uri": "https://localhost:8080/"
        },
        "id": "QqUs51sfJKfl",
        "outputId": "de114bf0-f9db-4f67-eea5-1742cfa894c6"
      },
      "source": [
        "df.isnull().sum() #Zidentyfikowanie brakujących danych w zbiorze danych"
      ],
      "execution_count": 54,
      "outputs": [
        {
          "output_type": "execute_result",
          "data": {
            "text/plain": [
              "Unnamed: 0    0\n",
              "A             1\n",
              "B             0\n",
              "C             1\n",
              "D             1\n",
              "E             0\n",
              "F             2\n",
              "G             2\n",
              "H             2\n",
              "I             0\n",
              "J             1\n",
              "dtype: int64"
            ]
          },
          "metadata": {},
          "execution_count": 54
        }
      ]
    },
    {
      "cell_type": "code",
      "metadata": {
        "id": "aXKrSMlOPHTj"
      },
      "source": [
        "#Wstawianie brakujących danych"
      ],
      "execution_count": null,
      "outputs": []
    },
    {
      "cell_type": "code",
      "metadata": {
        "colab": {
          "base_uri": "https://localhost:8080/"
        },
        "id": "dm9I2azOFb3p",
        "outputId": "e2253660-167a-4e6a-c71a-6e47d631a64a"
      },
      "source": [
        "from sklearn.impute import SimpleImputer  \n",
        "import numpy as np\n",
        "imp = SimpleImputer(missing_values=np.nan, strategy='mean') \n",
        "imp = imp.fit(df.values)\n",
        "imputed_data = imp.transform(df.values)\n",
        "imputed_data"
      ],
      "execution_count": 55,
      "outputs": [
        {
          "output_type": "execute_result",
          "data": {
            "text/plain": [
              "array([[ 0.,  1.,  2.,  3.,  4.,  5., 16.,  7., 18.,  9., 10.],\n",
              "       [ 1., 11., 12., 13., 14., 15., 16.,  7., 18., 19., 20.],\n",
              "       [ 2.,  6., 22., 23., 24., 25., 16.,  7., 18., 29., 30.]])"
            ]
          },
          "metadata": {},
          "execution_count": 55
        }
      ]
    },
    {
      "cell_type": "code",
      "metadata": {
        "id": "k1algOX1TCU0"
      },
      "source": [
        "df.to_csv('csv')"
      ],
      "execution_count": 70,
      "outputs": []
    },
    {
      "cell_type": "code",
      "metadata": {
        "colab": {
          "base_uri": "https://localhost:8080/",
          "height": 359
        },
        "id": "qD1n9mOELSbV",
        "outputId": "8cc83f6d-6fc3-44dd-c3e4-b073097f417e"
      },
      "source": [
        "#Dane kategoryzujące\n",
        "df = pd.DataFrame([\n",
        "['zielony', 'M', 50.5, 'klasa1'],\n",
        "['czerwony', 'L', 52.5, 'klasa2'], \n",
        "['niebieski', 'XL', 57.5, 'klasa1'],\n",
        "['fioletowy','S',59.5 ,'klasa1'],\n",
        "['czerwony','L',48.5 ,'klasa3'],\n",
        "['zielony','XL',48.5 ,'klasa2'],\n",
        "['brązowy','M',51.5 ,'klasa1'],\n",
        "['fioletowy','L',53.5 ,'klasa3'],\n",
        "['niebieski','S',61.5 ,'klasa3'],\n",
        "['czerwony','XXL',65.5 ,'klasa1'],\n",
        "\n",
        "\n",
        "\n",
        "])\n",
        "df.columns = ['kolor', 'rozmiar', 'cena', 'etykiety klas']\n",
        "df"
      ],
      "execution_count": 63,
      "outputs": [
        {
          "output_type": "execute_result",
          "data": {
            "text/html": [
              "<div>\n",
              "<style scoped>\n",
              "    .dataframe tbody tr th:only-of-type {\n",
              "        vertical-align: middle;\n",
              "    }\n",
              "\n",
              "    .dataframe tbody tr th {\n",
              "        vertical-align: top;\n",
              "    }\n",
              "\n",
              "    .dataframe thead th {\n",
              "        text-align: right;\n",
              "    }\n",
              "</style>\n",
              "<table border=\"1\" class=\"dataframe\">\n",
              "  <thead>\n",
              "    <tr style=\"text-align: right;\">\n",
              "      <th></th>\n",
              "      <th>kolor</th>\n",
              "      <th>rozmiar</th>\n",
              "      <th>cena</th>\n",
              "      <th>etykiety klas</th>\n",
              "    </tr>\n",
              "  </thead>\n",
              "  <tbody>\n",
              "    <tr>\n",
              "      <th>0</th>\n",
              "      <td>zielony</td>\n",
              "      <td>M</td>\n",
              "      <td>50.5</td>\n",
              "      <td>klasa1</td>\n",
              "    </tr>\n",
              "    <tr>\n",
              "      <th>1</th>\n",
              "      <td>czerwony</td>\n",
              "      <td>L</td>\n",
              "      <td>52.5</td>\n",
              "      <td>klasa2</td>\n",
              "    </tr>\n",
              "    <tr>\n",
              "      <th>2</th>\n",
              "      <td>niebieski</td>\n",
              "      <td>XL</td>\n",
              "      <td>57.5</td>\n",
              "      <td>klasa1</td>\n",
              "    </tr>\n",
              "    <tr>\n",
              "      <th>3</th>\n",
              "      <td>fioletowy</td>\n",
              "      <td>S</td>\n",
              "      <td>59.5</td>\n",
              "      <td>klasa1</td>\n",
              "    </tr>\n",
              "    <tr>\n",
              "      <th>4</th>\n",
              "      <td>czerwony</td>\n",
              "      <td>L</td>\n",
              "      <td>48.5</td>\n",
              "      <td>klasa3</td>\n",
              "    </tr>\n",
              "    <tr>\n",
              "      <th>5</th>\n",
              "      <td>zielony</td>\n",
              "      <td>XL</td>\n",
              "      <td>48.5</td>\n",
              "      <td>klasa2</td>\n",
              "    </tr>\n",
              "    <tr>\n",
              "      <th>6</th>\n",
              "      <td>brązowy</td>\n",
              "      <td>M</td>\n",
              "      <td>51.5</td>\n",
              "      <td>klasa1</td>\n",
              "    </tr>\n",
              "    <tr>\n",
              "      <th>7</th>\n",
              "      <td>fioletowy</td>\n",
              "      <td>L</td>\n",
              "      <td>53.5</td>\n",
              "      <td>klasa3</td>\n",
              "    </tr>\n",
              "    <tr>\n",
              "      <th>8</th>\n",
              "      <td>niebieski</td>\n",
              "      <td>S</td>\n",
              "      <td>61.5</td>\n",
              "      <td>klasa3</td>\n",
              "    </tr>\n",
              "    <tr>\n",
              "      <th>9</th>\n",
              "      <td>czerwony</td>\n",
              "      <td>XXL</td>\n",
              "      <td>65.5</td>\n",
              "      <td>klasa1</td>\n",
              "    </tr>\n",
              "  </tbody>\n",
              "</table>\n",
              "</div>"
            ],
            "text/plain": [
              "       kolor rozmiar  cena etykiety klas\n",
              "0    zielony       M  50.5        klasa1\n",
              "1   czerwony       L  52.5        klasa2\n",
              "2  niebieski      XL  57.5        klasa1\n",
              "3  fioletowy       S  59.5        klasa1\n",
              "4   czerwony       L  48.5        klasa3\n",
              "5    zielony      XL  48.5        klasa2\n",
              "6    brązowy       M  51.5        klasa1\n",
              "7  fioletowy       L  53.5        klasa3\n",
              "8  niebieski       S  61.5        klasa3\n",
              "9   czerwony     XXL  65.5        klasa1"
            ]
          },
          "metadata": {},
          "execution_count": 63
        }
      ]
    },
    {
      "cell_type": "code",
      "metadata": {
        "id": "QR0H5SXpF8rP"
      },
      "source": [
        ""
      ],
      "execution_count": 56,
      "outputs": []
    },
    {
      "cell_type": "code",
      "metadata": {
        "colab": {
          "base_uri": "https://localhost:8080/",
          "height": 359
        },
        "id": "cXHb--u7HQXX",
        "outputId": "9a061b55-4ce7-4c1d-cb1b-b92ac52ee2d4"
      },
      "source": [
        "map = {           #konwersja wartości porządkowych na wartości liczbowe, aby algorytm nauczania mógł prawidłowo odczytać wartości porządkowe\n",
        "    'XXL' : 5,\n",
        "    'S' : 4,\n",
        "    'XL' : 3,\n",
        "    'L' : 2,\n",
        "    'M' : 1,\n",
        "}\n",
        "df['rozmiar'] = df['rozmiar'].map(map) #użycie funkcji map() do konwersji słów na liczby\n",
        "df"
      ],
      "execution_count": 57,
      "outputs": [
        {
          "output_type": "execute_result",
          "data": {
            "text/html": [
              "<div>\n",
              "<style scoped>\n",
              "    .dataframe tbody tr th:only-of-type {\n",
              "        vertical-align: middle;\n",
              "    }\n",
              "\n",
              "    .dataframe tbody tr th {\n",
              "        vertical-align: top;\n",
              "    }\n",
              "\n",
              "    .dataframe thead th {\n",
              "        text-align: right;\n",
              "    }\n",
              "</style>\n",
              "<table border=\"1\" class=\"dataframe\">\n",
              "  <thead>\n",
              "    <tr style=\"text-align: right;\">\n",
              "      <th></th>\n",
              "      <th>kolor</th>\n",
              "      <th>rozmiar</th>\n",
              "      <th>cena</th>\n",
              "      <th>etykiety klas</th>\n",
              "    </tr>\n",
              "  </thead>\n",
              "  <tbody>\n",
              "    <tr>\n",
              "      <th>0</th>\n",
              "      <td>zielony</td>\n",
              "      <td>1</td>\n",
              "      <td>50.5</td>\n",
              "      <td>klasa1</td>\n",
              "    </tr>\n",
              "    <tr>\n",
              "      <th>1</th>\n",
              "      <td>czerwony</td>\n",
              "      <td>2</td>\n",
              "      <td>52.5</td>\n",
              "      <td>klasa2</td>\n",
              "    </tr>\n",
              "    <tr>\n",
              "      <th>2</th>\n",
              "      <td>niebieski</td>\n",
              "      <td>3</td>\n",
              "      <td>57.5</td>\n",
              "      <td>klasa1</td>\n",
              "    </tr>\n",
              "    <tr>\n",
              "      <th>3</th>\n",
              "      <td>fioletowy</td>\n",
              "      <td>4</td>\n",
              "      <td>59.5</td>\n",
              "      <td>klasa1</td>\n",
              "    </tr>\n",
              "    <tr>\n",
              "      <th>4</th>\n",
              "      <td>czerwony</td>\n",
              "      <td>2</td>\n",
              "      <td>48.5</td>\n",
              "      <td>klasa3</td>\n",
              "    </tr>\n",
              "    <tr>\n",
              "      <th>5</th>\n",
              "      <td>zielony</td>\n",
              "      <td>3</td>\n",
              "      <td>48.5</td>\n",
              "      <td>klasa2</td>\n",
              "    </tr>\n",
              "    <tr>\n",
              "      <th>6</th>\n",
              "      <td>brązowy</td>\n",
              "      <td>1</td>\n",
              "      <td>51.5</td>\n",
              "      <td>klasa1</td>\n",
              "    </tr>\n",
              "    <tr>\n",
              "      <th>7</th>\n",
              "      <td>fioletowy</td>\n",
              "      <td>2</td>\n",
              "      <td>53.5</td>\n",
              "      <td>klasa3</td>\n",
              "    </tr>\n",
              "    <tr>\n",
              "      <th>8</th>\n",
              "      <td>niebieski</td>\n",
              "      <td>4</td>\n",
              "      <td>61.5</td>\n",
              "      <td>klasa3</td>\n",
              "    </tr>\n",
              "    <tr>\n",
              "      <th>9</th>\n",
              "      <td>czerwony</td>\n",
              "      <td>5</td>\n",
              "      <td>65.5</td>\n",
              "      <td>klasa1</td>\n",
              "    </tr>\n",
              "  </tbody>\n",
              "</table>\n",
              "</div>"
            ],
            "text/plain": [
              "       kolor  rozmiar  cena etykiety klas\n",
              "0    zielony        1  50.5        klasa1\n",
              "1   czerwony        2  52.5        klasa2\n",
              "2  niebieski        3  57.5        klasa1\n",
              "3  fioletowy        4  59.5        klasa1\n",
              "4   czerwony        2  48.5        klasa3\n",
              "5    zielony        3  48.5        klasa2\n",
              "6    brązowy        1  51.5        klasa1\n",
              "7  fioletowy        2  53.5        klasa3\n",
              "8  niebieski        4  61.5        klasa3\n",
              "9   czerwony        5  65.5        klasa1"
            ]
          },
          "metadata": {},
          "execution_count": 57
        }
      ]
    },
    {
      "cell_type": "code",
      "metadata": {
        "colab": {
          "base_uri": "https://localhost:8080/"
        },
        "id": "N-SL4P-gHokW",
        "outputId": "e034ab68-43e9-45a1-a069-0f977caac07f"
      },
      "source": [
        "rev_map = {v: k for k, v in map.items()}   #proces odwrotny, czyli przywrócenie wartości porządkowych z wartości liczbowych\n",
        "df['rozmiar'].map(rev_map)"
      ],
      "execution_count": 58,
      "outputs": [
        {
          "output_type": "execute_result",
          "data": {
            "text/plain": [
              "0      M\n",
              "1      L\n",
              "2     XL\n",
              "3      S\n",
              "4      L\n",
              "5     XL\n",
              "6      M\n",
              "7      L\n",
              "8      S\n",
              "9    XXL\n",
              "Name: rozmiar, dtype: object"
            ]
          },
          "metadata": {},
          "execution_count": 58
        }
      ]
    },
    {
      "cell_type": "code",
      "metadata": {
        "colab": {
          "base_uri": "https://localhost:8080/"
        },
        "id": "OIlhW8J3Oell",
        "outputId": "e67d3a79-3a46-48e4-9d84-bc584764bc87"
      },
      "source": [
        "map_klasa = {label:idx for idx,label in enumerate(np.unique(df['etykiety klas']))} #konwersja przy użyciu funkcji enumerate()\n",
        "map_klasa"
      ],
      "execution_count": 59,
      "outputs": [
        {
          "output_type": "execute_result",
          "data": {
            "text/plain": [
              "{'klasa1': 0, 'klasa2': 1, 'klasa3': 2}"
            ]
          },
          "metadata": {},
          "execution_count": 59
        }
      ]
    },
    {
      "cell_type": "code",
      "metadata": {
        "colab": {
          "base_uri": "https://localhost:8080/",
          "height": 359
        },
        "id": "J27HAOyrOheE",
        "outputId": "bf46c7bb-1861-40c1-c8f0-49d4e3ba361e"
      },
      "source": [
        "df['etykiety klas'] = df['etykiety klas'].map(map_klasa) #zastosowanie mapowania do zaimplementowania wartości liczbowej do zbioru danych\n",
        "df"
      ],
      "execution_count": 60,
      "outputs": [
        {
          "output_type": "execute_result",
          "data": {
            "text/html": [
              "<div>\n",
              "<style scoped>\n",
              "    .dataframe tbody tr th:only-of-type {\n",
              "        vertical-align: middle;\n",
              "    }\n",
              "\n",
              "    .dataframe tbody tr th {\n",
              "        vertical-align: top;\n",
              "    }\n",
              "\n",
              "    .dataframe thead th {\n",
              "        text-align: right;\n",
              "    }\n",
              "</style>\n",
              "<table border=\"1\" class=\"dataframe\">\n",
              "  <thead>\n",
              "    <tr style=\"text-align: right;\">\n",
              "      <th></th>\n",
              "      <th>kolor</th>\n",
              "      <th>rozmiar</th>\n",
              "      <th>cena</th>\n",
              "      <th>etykiety klas</th>\n",
              "    </tr>\n",
              "  </thead>\n",
              "  <tbody>\n",
              "    <tr>\n",
              "      <th>0</th>\n",
              "      <td>zielony</td>\n",
              "      <td>1</td>\n",
              "      <td>50.5</td>\n",
              "      <td>0</td>\n",
              "    </tr>\n",
              "    <tr>\n",
              "      <th>1</th>\n",
              "      <td>czerwony</td>\n",
              "      <td>2</td>\n",
              "      <td>52.5</td>\n",
              "      <td>1</td>\n",
              "    </tr>\n",
              "    <tr>\n",
              "      <th>2</th>\n",
              "      <td>niebieski</td>\n",
              "      <td>3</td>\n",
              "      <td>57.5</td>\n",
              "      <td>0</td>\n",
              "    </tr>\n",
              "    <tr>\n",
              "      <th>3</th>\n",
              "      <td>fioletowy</td>\n",
              "      <td>4</td>\n",
              "      <td>59.5</td>\n",
              "      <td>0</td>\n",
              "    </tr>\n",
              "    <tr>\n",
              "      <th>4</th>\n",
              "      <td>czerwony</td>\n",
              "      <td>2</td>\n",
              "      <td>48.5</td>\n",
              "      <td>2</td>\n",
              "    </tr>\n",
              "    <tr>\n",
              "      <th>5</th>\n",
              "      <td>zielony</td>\n",
              "      <td>3</td>\n",
              "      <td>48.5</td>\n",
              "      <td>1</td>\n",
              "    </tr>\n",
              "    <tr>\n",
              "      <th>6</th>\n",
              "      <td>brązowy</td>\n",
              "      <td>1</td>\n",
              "      <td>51.5</td>\n",
              "      <td>0</td>\n",
              "    </tr>\n",
              "    <tr>\n",
              "      <th>7</th>\n",
              "      <td>fioletowy</td>\n",
              "      <td>2</td>\n",
              "      <td>53.5</td>\n",
              "      <td>2</td>\n",
              "    </tr>\n",
              "    <tr>\n",
              "      <th>8</th>\n",
              "      <td>niebieski</td>\n",
              "      <td>4</td>\n",
              "      <td>61.5</td>\n",
              "      <td>2</td>\n",
              "    </tr>\n",
              "    <tr>\n",
              "      <th>9</th>\n",
              "      <td>czerwony</td>\n",
              "      <td>5</td>\n",
              "      <td>65.5</td>\n",
              "      <td>0</td>\n",
              "    </tr>\n",
              "  </tbody>\n",
              "</table>\n",
              "</div>"
            ],
            "text/plain": [
              "       kolor  rozmiar  cena  etykiety klas\n",
              "0    zielony        1  50.5              0\n",
              "1   czerwony        2  52.5              1\n",
              "2  niebieski        3  57.5              0\n",
              "3  fioletowy        4  59.5              0\n",
              "4   czerwony        2  48.5              2\n",
              "5    zielony        3  48.5              1\n",
              "6    brązowy        1  51.5              0\n",
              "7  fioletowy        2  53.5              2\n",
              "8  niebieski        4  61.5              2\n",
              "9   czerwony        5  65.5              0"
            ]
          },
          "metadata": {},
          "execution_count": 60
        }
      ]
    },
    {
      "cell_type": "code",
      "metadata": {
        "colab": {
          "base_uri": "https://localhost:8080/"
        },
        "id": "1MpyN4FiOlO7",
        "outputId": "2cf84ef9-cfc8-4851-8055-bba9da00fba2"
      },
      "source": [
        "#alternatywna wersja funkcji mapowania poprzez użycie biblioteki sklearn i LabelEncoder\n",
        "from sklearn.preprocessing import LabelEncoder \n",
        "klasa_et = LabelEncoder()\n",
        "y = klasa_et.fit_transform(df['etykiety klas'].values)    # klasa_et.inverse_transform(y)\n",
        "y"
      ],
      "execution_count": 61,
      "outputs": [
        {
          "output_type": "execute_result",
          "data": {
            "text/plain": [
              "array([0, 1, 0, 0, 2, 1, 0, 2, 2, 0])"
            ]
          },
          "metadata": {},
          "execution_count": 61
        }
      ]
    },
    {
      "cell_type": "code",
      "metadata": {
        "colab": {
          "base_uri": "https://localhost:8080/"
        },
        "id": "zWQ42GkQOqIU",
        "outputId": "f0f18dc8-1dd4-4e35-81ad-6d7fca397700"
      },
      "source": [
        "X = df[['kolor', 'rozmiar', 'cena']].values \n",
        "kolor_et = LabelEncoder()\n",
        "X[:, 0] = kolor_et.fit_transform(X[:, 0]) #transformowanie pierwszej kolumny (w tym przypadku koloru) z wartości nominalnych na wartości liczbowe\n",
        "X"
      ],
      "execution_count": 62,
      "outputs": [
        {
          "output_type": "execute_result",
          "data": {
            "text/plain": [
              "array([[4, 1, 50.5],\n",
              "       [1, 2, 52.5],\n",
              "       [3, 3, 57.5],\n",
              "       [2, 4, 59.5],\n",
              "       [1, 2, 48.5],\n",
              "       [4, 3, 48.5],\n",
              "       [0, 1, 51.5],\n",
              "       [2, 2, 53.5],\n",
              "       [3, 4, 61.5],\n",
              "       [1, 5, 65.5]], dtype=object)"
            ]
          },
          "metadata": {},
          "execution_count": 62
        }
      ]
    },
    {
      "cell_type": "code",
      "metadata": {
        "id": "7iNbwjzZOsaE"
      },
      "source": [
        ""
      ],
      "execution_count": null,
      "outputs": []
    }
  ]
}