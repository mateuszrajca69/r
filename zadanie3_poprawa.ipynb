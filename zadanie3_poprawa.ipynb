{
  "nbformat": 4,
  "nbformat_minor": 0,
  "metadata": {
    "colab": {
      "name": "zadanie3_poprawa.ipynb",
      "provenance": [],
      "collapsed_sections": [],
      "authorship_tag": "ABX9TyOI/jiaXxRaaPl1z97RhuHy",
      "include_colab_link": true
    },
    "kernelspec": {
      "name": "python3",
      "display_name": "Python 3"
    },
    "language_info": {
      "name": "python"
    }
  },
  "cells": [
    {
      "cell_type": "markdown",
      "metadata": {
        "id": "view-in-github",
        "colab_type": "text"
      },
      "source": [
        "<a href=\"https://colab.research.google.com/github/mateuszrajca69/r/blob/main/zadanie3_poprawa.ipynb\" target=\"_parent\"><img src=\"https://colab.research.google.com/assets/colab-badge.svg\" alt=\"Open In Colab\"/></a>"
      ]
    },
    {
      "cell_type": "code",
      "metadata": {
        "id": "fyZCw90HRWhB"
      },
      "source": [
        "import numpy as np\n",
        "\n",
        "import sys, os\n",
        "if 'google.colab' in sys.modules and not os.path.exists('.setup_complete'):\n",
        "    !wget -q https://raw.githubusercontent.com/yandexdataschool/Practical_RL/coursera/week2_model_based/mdp.py"
      ],
      "execution_count": 82,
      "outputs": []
    },
    {
      "cell_type": "code",
      "metadata": {
        "id": "nke6IOVyaURo"
      },
      "source": [
        "transition_probs = {\n",
        "    's0': {\n",
        "        'a0': {'s0': 0.5, 's1': 0.5},\n",
        "        'a1': {'s0': 1},\n",
        "    },\n",
        "    's1': {\n",
        "        'a0': {'s0': 0.95, 's1': 0.05},\n",
        "        'a1': {'s1': 1},\n",
        "        'a2': {'s0': 1}\n",
        "    },\n",
        "}\n",
        "rewards = {\n",
        "    's0': {'a0': {'s0': +5, 's1': +5},\n",
        "          'a1': {'s0': +1}},\n",
        "    's1': {'a0': {'s0': -90, 's1': +5},\n",
        "          'a1': {'s1': +1},\n",
        "          'a2': {'s0': +0.7}\n",
        "          },\n",
        "}\n",
        "\n",
        "from mdp import MDP\n",
        "mdp = MDP(transition_probs, rewards, initial_state='s0')"
      ],
      "execution_count": 83,
      "outputs": []
    },
    {
      "cell_type": "code",
      "metadata": {
        "id": "sV3mZV7oa1Sn"
      },
      "source": [
        "transition_probs = {\n",
        "    's0': {\n",
        "        'a0': {'s0': 0.05, 's1': 0.95},\n",
        "        'a1': {'s0': 1},\n",
        "        'a2': {'s1': 1}\n",
        "    },\n",
        "    's1': {\n",
        "        'a0': {'s0': 0.5, 's1': 0.5},\n",
        "        'a1': {'s1': 1}\n",
        "    },\n",
        "}\n",
        "rewards = {\n",
        "    's0': {'a0': {'s0': +5}},\n",
        "    's1': {'a0': {'s0': +5}},\n",
        "    's1': {'a0': {'s1': +5}},\n",
        "\n",
        "    's0': {'a1': {'s0': +1}},\n",
        "    's1': {'a1': {'s1': +1}},\n",
        "\n",
        "    's0': {'a0': {'s1': -90}},\n",
        "    's0': {'a2': {'s1': +0.7}},\n",
        "}\n",
        "\n",
        "from mdp import MDP\n",
        "mdp = MDP(transition_probs, rewards, initial_state='s0')"
      ],
      "execution_count": 84,
      "outputs": []
    },
    {
      "cell_type": "code",
      "metadata": {
        "colab": {
          "base_uri": "https://localhost:8080/"
        },
        "id": "nAtYAzUNbYis",
        "outputId": "67023fcd-be4e-455f-ad36-30b0ce785ac8"
      },
      "source": [
        "next_state, reward, done, info = mdp.step('a1')\n",
        "print(next_state, reward, done, info)"
      ],
      "execution_count": 85,
      "outputs": [
        {
          "output_type": "stream",
          "text": [
            "s0 0.0 False {}\n"
          ],
          "name": "stdout"
        }
      ]
    },
    {
      "cell_type": "code",
      "metadata": {
        "colab": {
          "base_uri": "https://localhost:8080/"
        },
        "id": "OaNL0nDfbawV",
        "outputId": "24075ea0-c107-4f5b-d4ee-8113a0c246c7"
      },
      "source": [
        "mdp.get_all_states()"
      ],
      "execution_count": 86,
      "outputs": [
        {
          "output_type": "execute_result",
          "data": {
            "text/plain": [
              "('s0', 's1')"
            ]
          },
          "metadata": {
            "tags": []
          },
          "execution_count": 86
        }
      ]
    },
    {
      "cell_type": "code",
      "metadata": {
        "colab": {
          "base_uri": "https://localhost:8080/"
        },
        "id": "438n4xDsbdY1",
        "outputId": "f4948698-e01a-40a9-b678-5e2c0c679574"
      },
      "source": [
        "mdp.get_possible_actions('s1')"
      ],
      "execution_count": 87,
      "outputs": [
        {
          "output_type": "execute_result",
          "data": {
            "text/plain": [
              "('a0', 'a1')"
            ]
          },
          "metadata": {
            "tags": []
          },
          "execution_count": 87
        }
      ]
    },
    {
      "cell_type": "code",
      "metadata": {
        "colab": {
          "base_uri": "https://localhost:8080/"
        },
        "id": "AuDF2cqtbfHe",
        "outputId": "345fe57e-a880-47b2-c6b1-d388155bcec2"
      },
      "source": [
        "\n",
        "mdp.get_next_states('s1', 'a0')"
      ],
      "execution_count": 88,
      "outputs": [
        {
          "output_type": "execute_result",
          "data": {
            "text/plain": [
              "{'s0': 0.5, 's1': 0.5}"
            ]
          },
          "metadata": {
            "tags": []
          },
          "execution_count": 88
        }
      ]
    },
    {
      "cell_type": "code",
      "metadata": {
        "colab": {
          "base_uri": "https://localhost:8080/"
        },
        "id": "B8rYjIcqbgq9",
        "outputId": "043d9b2c-f693-4386-ebdc-74f85e2ea897"
      },
      "source": [
        "mdp.get_transition_prob('s1', 'a0', 's0')"
      ],
      "execution_count": 89,
      "outputs": [
        {
          "output_type": "execute_result",
          "data": {
            "text/plain": [
              "0.5"
            ]
          },
          "metadata": {
            "tags": []
          },
          "execution_count": 89
        }
      ]
    },
    {
      "cell_type": "code",
      "metadata": {
        "colab": {
          "base_uri": "https://localhost:8080/",
          "height": 337
        },
        "id": "Ee6UHI5QbinO",
        "outputId": "037cbf0d-16e5-4260-b706-b659fb33333d"
      },
      "source": [
        "from mdp import has_graphviz\n",
        "from IPython.display import display\n",
        "\n",
        "if has_graphviz:\n",
        "    from mdp import plot_graph\n",
        "    display(plot_graph(mdp))"
      ],
      "execution_count": 90,
      "outputs": [
        {
          "output_type": "display_data",
          "data": {
            "text/plain": [
              "<graphviz.dot.Digraph at 0x7fd033b29a10>"
            ],
            "image/svg+xml": "<?xml version=\"1.0\" encoding=\"UTF-8\" standalone=\"no\"?>\n<!DOCTYPE svg PUBLIC \"-//W3C//DTD SVG 1.1//EN\"\n \"http://www.w3.org/Graphics/SVG/1.1/DTD/svg11.dtd\">\n<!-- Generated by graphviz version 2.40.1 (20161225.0304)\n -->\n<!-- Title: MDP Pages: 1 -->\n<svg width=\"692pt\" height=\"237pt\"\n viewBox=\"0.00 0.00 692.31 237.02\" xmlns=\"http://www.w3.org/2000/svg\" xmlns:xlink=\"http://www.w3.org/1999/xlink\">\n<g id=\"graph0\" class=\"graph\" transform=\"scale(1 1) rotate(0) translate(4 233.0214)\">\n<title>MDP</title>\n<polygon fill=\"#ffffff\" stroke=\"transparent\" points=\"-4,4 -4,-233.0214 688.3087,-233.0214 688.3087,4 -4,4\"/>\n<!-- s0 -->\n<g id=\"node1\" class=\"node\">\n<title>s0</title>\n<ellipse fill=\"#85ff75\" stroke=\"#85ff75\" cx=\"40\" cy=\"-112.4442\" rx=\"36\" ry=\"36\"/>\n<ellipse fill=\"none\" stroke=\"#85ff75\" cx=\"40\" cy=\"-112.4442\" rx=\"40\" ry=\"40\"/>\n<text text-anchor=\"middle\" x=\"40\" y=\"-106.2442\" font-family=\"Arial\" font-size=\"24.00\" fill=\"#000000\">s0</text>\n</g>\n<!-- s0&#45;a0 -->\n<g id=\"node2\" class=\"node\">\n<title>s0&#45;a0</title>\n<ellipse fill=\"#ffb6c1\" stroke=\"#ffb6c1\" cx=\"202.5772\" cy=\"-201.4442\" rx=\"27.6545\" ry=\"27.6545\"/>\n<text text-anchor=\"middle\" x=\"202.5772\" y=\"-196.4442\" font-family=\"Arial\" font-size=\"20.00\" fill=\"#000000\">a0</text>\n</g>\n<!-- s0&#45;&gt;s0&#45;a0 -->\n<g id=\"edge1\" class=\"edge\">\n<title>s0&#45;&gt;s0&#45;a0</title>\n<path fill=\"none\" stroke=\"#ff0000\" stroke-width=\"2\" d=\"M59.3862,-147.6592C69.0934,-161.9851 82.1733,-177.2931 98,-186.4442 118.1035,-198.0682 143.9012,-201.8635 164.8435,-202.7305\"/>\n<polygon fill=\"#ff0000\" stroke=\"#ff0000\" stroke-width=\"2\" points=\"164.9204,-206.2328 174.9915,-202.9428 165.0669,-199.2343 164.9204,-206.2328\"/>\n</g>\n<!-- s0&#45;a1 -->\n<g id=\"node4\" class=\"node\">\n<title>s0&#45;a1</title>\n<ellipse fill=\"#ffb6c1\" stroke=\"#ffb6c1\" cx=\"202.5772\" cy=\"-128.4442\" rx=\"27.6545\" ry=\"27.6545\"/>\n<text text-anchor=\"middle\" x=\"202.5772\" y=\"-123.4442\" font-family=\"Arial\" font-size=\"20.00\" fill=\"#000000\">a1</text>\n</g>\n<!-- s0&#45;&gt;s0&#45;a1 -->\n<g id=\"edge4\" class=\"edge\">\n<title>s0&#45;&gt;s0&#45;a1</title>\n<path fill=\"none\" stroke=\"#ff0000\" stroke-width=\"2\" d=\"M80.1876,-116.3993C106.1379,-118.9532 139.6719,-122.2534 165.0745,-124.7534\"/>\n<polygon fill=\"#ff0000\" stroke=\"#ff0000\" stroke-width=\"2\" points=\"164.7753,-128.2408 175.07,-125.7371 165.4609,-121.2744 164.7753,-128.2408\"/>\n</g>\n<!-- s0&#45;a2 -->\n<g id=\"node5\" class=\"node\">\n<title>s0&#45;a2</title>\n<ellipse fill=\"#ffb6c1\" stroke=\"#ffb6c1\" cx=\"202.5772\" cy=\"-55.4442\" rx=\"27.6545\" ry=\"27.6545\"/>\n<text text-anchor=\"middle\" x=\"202.5772\" y=\"-50.4442\" font-family=\"Arial\" font-size=\"20.00\" fill=\"#000000\">a2</text>\n</g>\n<!-- s0&#45;&gt;s0&#45;a2 -->\n<g id=\"edge6\" class=\"edge\">\n<title>s0&#45;&gt;s0&#45;a2</title>\n<path fill=\"none\" stroke=\"#ff0000\" stroke-width=\"2\" d=\"M77.308,-97.2482C84.1613,-94.5713 91.2742,-91.8684 98,-89.4442 120.5857,-81.3037 146.2168,-72.9566 166.4514,-66.5701\"/>\n<polygon fill=\"#ff0000\" stroke=\"#ff0000\" stroke-width=\"2\" points=\"167.71,-69.8435 176.2044,-63.5115 165.6153,-63.1643 167.71,-69.8435\"/>\n</g>\n<!-- s0&#45;a0&#45;&gt;s0 -->\n<g id=\"edge2\" class=\"edge\">\n<title>s0&#45;a0&#45;&gt;s0</title>\n<path fill=\"none\" stroke=\"#0000ff\" stroke-dasharray=\"5,2\" d=\"M182.1094,-182.9059C174.5436,-176.5831 165.6885,-169.7719 157,-164.4442 144.414,-156.7266 113.3868,-143.017 86.4455,-131.6119\"/>\n<polygon fill=\"#0000ff\" stroke=\"#0000ff\" points=\"87.698,-128.3417 77.1234,-127.6875 84.982,-134.7934 87.698,-128.3417\"/>\n<text text-anchor=\"middle\" x=\"127.5\" y=\"-169.6442\" font-family=\"Arial\" font-size=\"16.00\" fill=\"#000000\">p = 0.05</text>\n</g>\n<!-- s1 -->\n<g id=\"node3\" class=\"node\">\n<title>s1</title>\n<ellipse fill=\"#85ff75\" stroke=\"#85ff75\" cx=\"436.1543\" cy=\"-78.4442\" rx=\"36\" ry=\"36\"/>\n<ellipse fill=\"none\" stroke=\"#85ff75\" cx=\"436.1543\" cy=\"-78.4442\" rx=\"40\" ry=\"40\"/>\n<text text-anchor=\"middle\" x=\"436.1543\" y=\"-72.2442\" font-family=\"Arial\" font-size=\"24.00\" fill=\"#000000\">s1</text>\n</g>\n<!-- s0&#45;a0&#45;&gt;s1 -->\n<g id=\"edge3\" class=\"edge\">\n<title>s0&#45;a0&#45;&gt;s1</title>\n<path fill=\"none\" stroke=\"#0000ff\" stroke-dasharray=\"5,2\" d=\"M227.1325,-188.5135C266.0857,-168.0011 342.6231,-127.6971 391.4849,-101.9668\"/>\n<polygon fill=\"#0000ff\" stroke=\"#0000ff\" points=\"393.3524,-104.9391 400.5698,-97.1828 390.0908,-98.7453 393.3524,-104.9391\"/>\n<text text-anchor=\"middle\" x=\"313.1543\" y=\"-179.6442\" font-family=\"Arial\" font-size=\"16.00\" fill=\"#000000\">p = 0.95</text>\n</g>\n<!-- s1&#45;a0 -->\n<g id=\"node6\" class=\"node\">\n<title>s1&#45;a0</title>\n<ellipse fill=\"#ffb6c1\" stroke=\"#ffb6c1\" cx=\"656.7315\" cy=\"-32.4442\" rx=\"27.6545\" ry=\"27.6545\"/>\n<text text-anchor=\"middle\" x=\"656.7315\" y=\"-27.4442\" font-family=\"Arial\" font-size=\"20.00\" fill=\"#000000\">a0</text>\n</g>\n<!-- s1&#45;&gt;s1&#45;a0 -->\n<g id=\"edge8\" class=\"edge\">\n<title>s1&#45;&gt;s1&#45;a0</title>\n<path fill=\"none\" stroke=\"#ff0000\" stroke-width=\"2\" d=\"M476.3559,-75.0302C512.2097,-71.3304 565.8748,-64.1721 611.1543,-51.4442 614.7495,-50.4336 618.4409,-49.2168 622.0916,-47.8932\"/>\n<polygon fill=\"#ff0000\" stroke=\"#ff0000\" stroke-width=\"2\" points=\"623.515,-51.0951 631.5663,-44.2085 620.9777,-44.5711 623.515,-51.0951\"/>\n</g>\n<!-- s1&#45;a1 -->\n<g id=\"node7\" class=\"node\">\n<title>s1&#45;a1</title>\n<ellipse fill=\"#ffb6c1\" stroke=\"#ffb6c1\" cx=\"656.7315\" cy=\"-114.4442\" rx=\"27.6545\" ry=\"27.6545\"/>\n<text text-anchor=\"middle\" x=\"656.7315\" y=\"-109.4442\" font-family=\"Arial\" font-size=\"20.00\" fill=\"#000000\">a1</text>\n</g>\n<!-- s1&#45;&gt;s1&#45;a1 -->\n<g id=\"edge11\" class=\"edge\">\n<title>s1&#45;&gt;s1&#45;a1</title>\n<path fill=\"none\" stroke=\"#ff0000\" stroke-width=\"2\" d=\"M475.8989,-83.5591C511.4524,-88.3223 564.9337,-95.9504 611.1543,-104.4442 613.9928,-104.9658 616.9238,-105.5359 619.8668,-106.1309\"/>\n<polygon fill=\"#ff0000\" stroke=\"#ff0000\" stroke-width=\"2\" points=\"619.2954,-109.5872 629.801,-108.2154 620.7329,-102.7363 619.2954,-109.5872\"/>\n</g>\n<!-- s0&#45;a1&#45;&gt;s0 -->\n<g id=\"edge5\" class=\"edge\">\n<title>s0&#45;a1&#45;&gt;s0</title>\n<path fill=\"none\" stroke=\"#0000ff\" stroke-dasharray=\"5,2\" d=\"M181.2506,-110.0933C174.0259,-104.9735 165.5972,-100.0909 157,-97.4442 134.8657,-90.6301 109.4549,-92.7636 87.9819,-97.2692\"/>\n<polygon fill=\"#0000ff\" stroke=\"#0000ff\" points=\"87.0542,-93.8914 78.1048,-99.5622 88.6373,-100.7101 87.0542,-93.8914\"/>\n<text text-anchor=\"middle\" x=\"127.5\" y=\"-102.6442\" font-family=\"Arial\" font-size=\"16.00\" fill=\"#000000\">p = 1</text>\n</g>\n<!-- s0&#45;a2&#45;&gt;s1 -->\n<g id=\"edge7\" class=\"edge\">\n<title>s0&#45;a2&#45;&gt;s1</title>\n<path fill=\"none\" stroke=\"#0000ff\" stroke-dasharray=\"5,2\" d=\"M230.2888,-58.1729C268.5671,-61.9422 338.2772,-68.8064 385.8765,-73.4934\"/>\n<polygon fill=\"#0000ff\" stroke=\"#0000ff\" points=\"385.6812,-76.9911 395.9761,-74.4879 386.3672,-70.0247 385.6812,-76.9911\"/>\n<text text-anchor=\"middle\" x=\"313.1543\" y=\"-77.6442\" font-family=\"Arial\" font-size=\"16.00\" fill=\"#000000\">p = 1 &#160;reward =0.7</text>\n</g>\n<!-- s1&#45;a0&#45;&gt;s0 -->\n<g id=\"edge9\" class=\"edge\">\n<title>s1&#45;a0&#45;&gt;s0</title>\n<path fill=\"none\" stroke=\"#0000ff\" stroke-dasharray=\"5,2\" d=\"M631.153,-21.0881C624.7473,-18.7539 617.8031,-16.6438 611.1543,-15.4442 559.9806,-6.2112 546.1538,-15.1998 494.1543,-15.4442 352.3033,-16.1109 311.1936,21.2229 175,-18.4442 137.4773,-29.3729 101.495,-55.4773 76.128,-77.4105\"/>\n<polygon fill=\"#0000ff\" stroke=\"#0000ff\" points=\"73.7789,-74.8156 68.6063,-84.062 78.416,-80.0594 73.7789,-74.8156\"/>\n<text text-anchor=\"middle\" x=\"313.1543\" y=\"-13.6442\" font-family=\"Arial\" font-size=\"16.00\" fill=\"#000000\">p = 0.5</text>\n</g>\n<!-- s1&#45;a0&#45;&gt;s1 -->\n<g id=\"edge10\" class=\"edge\">\n<title>s1&#45;a0&#45;&gt;s1</title>\n<path fill=\"none\" stroke=\"#0000ff\" stroke-dasharray=\"5,2\" d=\"M629.8575,-26.1859C596.7982,-19.7683 539.4887,-12.8578 494.1543,-29.4442 486.0575,-32.4066 478.3119,-37.0538 471.2668,-42.3316\"/>\n<polygon fill=\"#0000ff\" stroke=\"#0000ff\" points=\"468.9062,-39.7394 463.3389,-48.7536 473.3124,-45.1787 468.9062,-39.7394\"/>\n<text text-anchor=\"middle\" x=\"552.6543\" y=\"-34.6442\" font-family=\"Arial\" font-size=\"16.00\" fill=\"#000000\">p = 0.5</text>\n</g>\n<!-- s1&#45;a1&#45;&gt;s1 -->\n<g id=\"edge12\" class=\"edge\">\n<title>s1&#45;a1&#45;&gt;s1</title>\n<path fill=\"none\" stroke=\"#0000ff\" stroke-dasharray=\"5,2\" d=\"M629.0221,-114.7166C596.354,-114.4692 540.6237,-112.2591 494.1543,-101.4442 490.2886,-100.5446 486.3413,-99.4313 482.415,-98.1839\"/>\n<polygon fill=\"#0000ff\" stroke=\"#0000ff\" points=\"483.3515,-94.8046 472.7568,-94.8525 481.069,-101.422 483.3515,-94.8046\"/>\n<text text-anchor=\"middle\" x=\"552.6543\" y=\"-119.6442\" font-family=\"Arial\" font-size=\"16.00\" fill=\"#000000\">p = 1 &#160;reward =1</text>\n</g>\n</g>\n</svg>\n"
          },
          "metadata": {
            "tags": []
          }
        }
      ]
    },
    {
      "cell_type": "code",
      "metadata": {
        "colab": {
          "base_uri": "https://localhost:8080/"
        },
        "id": "TkSrderiboK-",
        "outputId": "7374c576-876d-4bf1-8c3f-fd11cdd58bd8"
      },
      "source": [
        "import random\n",
        "state = mdp.reset()\n",
        "\n",
        "for t in range(200):\n",
        "\n",
        "  action = random.choice(mdp.get_possible_actions(state))\n",
        "  observation, reward, done, info = mdp.step(action)\n",
        "  state = observation\n",
        "\n",
        "  print(t, observation, reward, done)"
      ],
      "execution_count": 91,
      "outputs": [
        {
          "output_type": "stream",
          "text": [
            "0 s0 0.0 False\n",
            "1 s0 0.0 False\n",
            "2 s1 0.7 False\n",
            "3 s1 0.0 False\n",
            "4 s1 1 False\n",
            "5 s1 1 False\n",
            "6 s0 0.0 False\n",
            "7 s0 0.0 False\n",
            "8 s0 0.0 False\n",
            "9 s1 0.0 False\n",
            "10 s1 1 False\n",
            "11 s1 1 False\n",
            "12 s1 1 False\n",
            "13 s0 0.0 False\n",
            "14 s1 0.7 False\n",
            "15 s1 0.0 False\n",
            "16 s1 1 False\n",
            "17 s0 0.0 False\n",
            "18 s0 0.0 False\n",
            "19 s0 0.0 False\n",
            "20 s0 0.0 False\n",
            "21 s0 0.0 False\n",
            "22 s1 0.7 False\n",
            "23 s0 0.0 False\n",
            "24 s0 0.0 False\n",
            "25 s1 0.7 False\n",
            "26 s1 1 False\n",
            "27 s0 0.0 False\n",
            "28 s1 0.7 False\n",
            "29 s1 0.0 False\n",
            "30 s1 1 False\n",
            "31 s1 0.0 False\n",
            "32 s1 0.0 False\n",
            "33 s0 0.0 False\n",
            "34 s1 0.7 False\n",
            "35 s1 1 False\n",
            "36 s1 1 False\n",
            "37 s0 0.0 False\n",
            "38 s1 0.0 False\n",
            "39 s1 0.0 False\n",
            "40 s0 0.0 False\n",
            "41 s1 0.0 False\n",
            "42 s1 0.0 False\n",
            "43 s1 1 False\n",
            "44 s0 0.0 False\n",
            "45 s0 0.0 False\n",
            "46 s0 0.0 False\n",
            "47 s1 0.0 False\n",
            "48 s1 1 False\n",
            "49 s1 0.0 False\n",
            "50 s1 1 False\n",
            "51 s1 0.0 False\n",
            "52 s1 0.0 False\n",
            "53 s1 0.0 False\n",
            "54 s1 1 False\n",
            "55 s1 0.0 False\n",
            "56 s1 1 False\n",
            "57 s1 1 False\n",
            "58 s1 0.0 False\n",
            "59 s1 0.0 False\n",
            "60 s0 0.0 False\n",
            "61 s0 0.0 False\n",
            "62 s1 0.0 False\n",
            "63 s1 0.0 False\n",
            "64 s0 0.0 False\n",
            "65 s0 0.0 False\n",
            "66 s0 0.0 False\n",
            "67 s1 0.7 False\n",
            "68 s0 0.0 False\n",
            "69 s0 0.0 False\n",
            "70 s1 0.0 False\n",
            "71 s1 1 False\n",
            "72 s1 0.0 False\n",
            "73 s0 0.0 False\n",
            "74 s1 0.7 False\n",
            "75 s1 0.0 False\n",
            "76 s1 0.0 False\n",
            "77 s1 0.0 False\n",
            "78 s1 0.0 False\n",
            "79 s1 1 False\n",
            "80 s0 0.0 False\n",
            "81 s0 0.0 False\n",
            "82 s1 0.7 False\n",
            "83 s1 1 False\n",
            "84 s1 0.0 False\n",
            "85 s0 0.0 False\n",
            "86 s1 0.7 False\n",
            "87 s1 1 False\n",
            "88 s1 1 False\n",
            "89 s1 0.0 False\n",
            "90 s1 0.0 False\n",
            "91 s1 0.0 False\n",
            "92 s1 1 False\n",
            "93 s1 1 False\n",
            "94 s1 1 False\n",
            "95 s1 1 False\n",
            "96 s1 1 False\n",
            "97 s1 1 False\n",
            "98 s0 0.0 False\n",
            "99 s0 0.0 False\n",
            "100 s1 0.7 False\n",
            "101 s0 0.0 False\n",
            "102 s1 0.0 False\n",
            "103 s0 0.0 False\n",
            "104 s1 0.0 False\n",
            "105 s1 1 False\n",
            "106 s1 1 False\n",
            "107 s1 1 False\n",
            "108 s1 0.0 False\n",
            "109 s0 0.0 False\n",
            "110 s1 0.0 False\n",
            "111 s1 1 False\n",
            "112 s1 1 False\n",
            "113 s1 1 False\n",
            "114 s1 0.0 False\n",
            "115 s1 0.0 False\n",
            "116 s1 1 False\n",
            "117 s1 1 False\n",
            "118 s1 1 False\n",
            "119 s0 0.0 False\n",
            "120 s0 0.0 False\n",
            "121 s0 0.0 False\n",
            "122 s1 0.0 False\n",
            "123 s1 0.0 False\n",
            "124 s1 1 False\n",
            "125 s1 0.0 False\n",
            "126 s1 0.0 False\n",
            "127 s1 1 False\n",
            "128 s1 1 False\n",
            "129 s1 0.0 False\n",
            "130 s1 1 False\n",
            "131 s0 0.0 False\n",
            "132 s0 0.0 False\n",
            "133 s1 0.7 False\n",
            "134 s0 0.0 False\n",
            "135 s0 0.0 False\n",
            "136 s0 0.0 False\n",
            "137 s0 0.0 False\n",
            "138 s0 0.0 False\n",
            "139 s1 0.0 False\n",
            "140 s1 1 False\n",
            "141 s1 1 False\n",
            "142 s1 1 False\n",
            "143 s0 0.0 False\n",
            "144 s1 0.0 False\n",
            "145 s1 0.0 False\n",
            "146 s0 0.0 False\n",
            "147 s1 0.7 False\n",
            "148 s1 1 False\n",
            "149 s1 1 False\n",
            "150 s1 1 False\n",
            "151 s0 0.0 False\n",
            "152 s0 0.0 False\n",
            "153 s1 0.7 False\n",
            "154 s1 0.0 False\n",
            "155 s0 0.0 False\n",
            "156 s0 0.0 False\n",
            "157 s0 0.0 False\n",
            "158 s1 0.0 False\n",
            "159 s1 1 False\n",
            "160 s0 0.0 False\n",
            "161 s1 0.0 False\n",
            "162 s0 0.0 False\n",
            "163 s1 0.0 False\n",
            "164 s1 0.0 False\n",
            "165 s0 0.0 False\n",
            "166 s0 0.0 False\n",
            "167 s0 0.0 False\n",
            "168 s1 0.0 False\n",
            "169 s1 0.0 False\n",
            "170 s0 0.0 False\n",
            "171 s1 0.0 False\n",
            "172 s1 1 False\n",
            "173 s1 0.0 False\n",
            "174 s1 1 False\n",
            "175 s0 0.0 False\n",
            "176 s0 0.0 False\n",
            "177 s0 0.0 False\n",
            "178 s0 0.0 False\n",
            "179 s0 0.0 False\n",
            "180 s1 0.0 False\n",
            "181 s0 0.0 False\n",
            "182 s1 0.0 False\n",
            "183 s1 0.0 False\n",
            "184 s1 1 False\n",
            "185 s0 0.0 False\n",
            "186 s1 0.7 False\n",
            "187 s0 0.0 False\n",
            "188 s1 0.7 False\n",
            "189 s1 1 False\n",
            "190 s1 0.0 False\n",
            "191 s1 1 False\n",
            "192 s1 1 False\n",
            "193 s1 1 False\n",
            "194 s1 1 False\n",
            "195 s1 1 False\n",
            "196 s1 0.0 False\n",
            "197 s1 0.0 False\n",
            "198 s0 0.0 False\n",
            "199 s0 0.0 False\n"
          ],
          "name": "stdout"
        }
      ]
    },
    {
      "cell_type": "code",
      "metadata": {
        "id": "CizYDOJNcIXG"
      },
      "source": [
        "def get_action_value(mdp, state_values, state, action, gamma):\n",
        "  Q = 0.\n",
        "\n",
        "  for next_state in mdp.get_next_states(state, action):\n",
        "    \n",
        "    prob = mdp.get_transition_prob(state, action, next_state)\n",
        "    reward = mdp.get_reward(state, action, next_state)\n",
        "    Q += prob * (reward + (gamma * state_values[next_state]))\n",
        "\n",
        "  return Q"
      ],
      "execution_count": 92,
      "outputs": []
    },
    {
      "cell_type": "code",
      "metadata": {
        "id": "r9E5Cbh4cq92"
      },
      "source": [
        "def get_new_state_value(mdp, state_values, state, gamma):\n",
        "  \n",
        "  if mdp.is_terminal(state):\n",
        "    return 0\n",
        "\n",
        "  return max([get_action_value(mdp, state_values, state, action, gamma) for action in mdp.get_possible_actions(state)])"
      ],
      "execution_count": 93,
      "outputs": []
    },
    {
      "cell_type": "code",
      "metadata": {
        "colab": {
          "base_uri": "https://localhost:8080/"
        },
        "id": "CSNpBluCcsgt",
        "outputId": "651cc8d9-5836-4d11-dc90-18167967abe2"
      },
      "source": [
        "gamma = 0.98\n",
        "num_iter = 94\n",
        "min_diff = 0.001\n",
        "\n",
        "state_values = {s: 0 for s in mdp.get_all_states()}\n",
        "\n",
        "for t in range(num_iter):\n",
        "\n",
        "    new_state_values = {state: get_new_state_value(mdp, state_values, state, gamma) for state in mdp.get_all_states()}\n",
        "\n",
        "    diff = max(abs(new_state_values[s] - state_values[s]) for s in mdp.get_all_states())\n",
        "\n",
        "    print(t, diff, state_values)\n",
        "\n",
        "    state_values = new_state_values\n",
        "\n",
        "    if diff < min_diff:\n",
        "        break"
      ],
      "execution_count": 94,
      "outputs": [
        {
          "output_type": "stream",
          "text": [
            "0 1.0 {'s0': 0, 's1': 0}\n",
            "1 0.98 {'s0': 0.7, 's1': 1.0}\n",
            "2 0.9603999999999999 {'s0': 1.68, 's1': 1.98}\n",
            "3 0.941192 {'s0': 2.6403999999999996, 's1': 2.9404}\n",
            "4 0.9223681600000004 {'s0': 3.5815919999999997, 's1': 3.881592}\n",
            "5 0.9039207967999996 {'s0': 4.50396016, 's1': 4.80396016}\n",
            "6 0.8858423808640001 {'s0': 5.4078809568, 's1': 5.7078809567999995}\n",
            "7 0.8681255332467197 {'s0': 6.293723337664, 's1': 6.593723337664}\n",
            "8 0.8507630225817859 {'s0': 7.1618488709107195, 's1': 7.461848870910719}\n",
            "9 0.8337477621301499 {'s0': 8.012611893492505, 's1': 8.312611893492505}\n",
            "10 0.8170728068875466 {'s0': 8.846359655622654, 's1': 9.146359655622655}\n",
            "11 0.8007313507497962 {'s0': 9.663432462510201, 's1': 9.963432462510202}\n",
            "12 0.7847167237347996 {'s0': 10.464163813259997, 's1': 10.764163813259998}\n",
            "13 0.7690223892601047 {'s0': 11.248880536994797, 's1': 11.548880536994798}\n",
            "14 0.7536419414749016 {'s0': 12.017902926254902, 's1': 12.317902926254902}\n",
            "15 0.7385691026454033 {'s0': 12.771544867729803, 's1': 13.071544867729804}\n",
            "16 0.7237977205924953 {'s0': 13.510113970375206, 's1': 13.810113970375207}\n",
            "17 0.7093217661806452 {'s0': 14.233911690967702, 's1': 14.533911690967702}\n",
            "18 0.6951353308570329 {'s0': 14.943233457148347, 's1': 15.243233457148348}\n",
            "19 0.6812326242398932 {'s0': 15.63836878800538, 's1': 15.93836878800538}\n",
            "20 0.6676079717550927 {'s0': 16.319601412245273, 's1': 16.619601412245274}\n",
            "21 0.6542558123199917 {'s0': 16.987209384000366, 's1': 17.287209384000366}\n",
            "22 0.6411706960735941 {'s0': 17.641465196320357, 's1': 17.941465196320358}\n",
            "23 0.6283472821521201 {'s0': 18.28263589239395, 's1': 18.582635892393952}\n",
            "24 0.6157803365090793 {'s0': 18.91098317454607, 's1': 19.210983174546072}\n",
            "25 0.6034647297788958 {'s0': 19.52676351105515, 's1': 19.82676351105515}\n",
            "26 0.591395435183319 {'s0': 20.130228240834047, 's1': 20.430228240834047}\n",
            "27 0.5795675264796536 {'s0': 20.721623676017366, 's1': 21.021623676017366}\n",
            "28 0.5679761759500579 {'s0': 21.30119120249702, 's1': 21.60119120249702}\n",
            "29 0.5566166524310567 {'s0': 21.869167378447077, 's1': 22.169167378447078}\n",
            "30 0.5454843193824352 {'s0': 22.425784030878134, 's1': 22.725784030878135}\n",
            "31 0.5345746329947865 {'s0': 22.97126835026057, 's1': 23.27126835026057}\n",
            "32 0.5238831403348918 {'s0': 23.505842983255356, 's1': 23.805842983255356}\n",
            "33 0.5134054775281953 {'s0': 24.029726123590248, 's1': 24.329726123590248}\n",
            "34 0.5031373679776294 {'s0': 24.543131601118443, 's1': 24.843131601118444}\n",
            "35 0.49307462061807783 {'s0': 25.046268969096072, 's1': 25.346268969096073}\n",
            "36 0.4832131282057155 {'s0': 25.53934358971415, 's1': 25.83934358971415}\n",
            "37 0.4735488656416038 {'s0': 26.022556717919866, 's1': 26.322556717919866}\n",
            "38 0.46407788832877017 {'s0': 26.49610558356147, 's1': 26.79610558356147}\n",
            "39 0.45479633056219626 {'s0': 26.96018347189024, 's1': 27.26018347189024}\n",
            "40 0.44570040395095134 {'s0': 27.414979802452436, 's1': 27.714979802452437}\n",
            "41 0.43678639587193047 {'s0': 27.860680206403387, 's1': 28.160680206403388}\n",
            "42 0.4280506679544942 {'s0': 28.297466602275318, 's1': 28.59746660227532}\n",
            "43 0.41948965459540233 {'s0': 28.725517270229812, 's1': 29.025517270229813}\n",
            "44 0.4110998615034944 {'s0': 29.145006924825214, 's1': 29.445006924825215}\n",
            "45 0.40287786427342454 {'s0': 29.55610678632871, 's1': 29.85610678632871}\n",
            "46 0.3948203069879561 {'s0': 29.958984650602133, 's1': 30.258984650602134}\n",
            "47 0.38692390084819905 {'s0': 30.35380495759009, 's1': 30.65380495759009}\n",
            "48 0.3791854228312346 {'s0': 30.74072885843829, 's1': 31.04072885843829}\n",
            "49 0.3716017143746093 {'s0': 31.119914281269523, 's1': 31.419914281269524}\n",
            "50 0.3641696800871159 {'s0': 31.491515995644132, 's1': 31.791515995644133}\n",
            "51 0.356886286485377 {'s0': 31.855685675731248, 's1': 32.15568567573125}\n",
            "52 0.3497485607556712 {'s0': 32.21257196221662, 's1': 32.512571962216626}\n",
            "53 0.342753589540564 {'s0': 32.56232052297229, 's1': 32.8623205229723}\n",
            "54 0.3358985177497402 {'s0': 32.90507411251286, 's1': 33.205074112512854}\n",
            "55 0.3291805473947491 {'s0': 33.2409726302626, 's1': 33.540972630262594}\n",
            "56 0.3225969364468497 {'s0': 33.570153177657346, 's1': 33.87015317765734}\n",
            "57 0.31614499771791316 {'s0': 33.892750114104196, 's1': 34.19275011410419}\n",
            "58 0.30982209776355774 {'s0': 34.20889511182211, 's1': 34.508895111822106}\n",
            "59 0.3036256558082826 {'s0': 34.51871720958567, 's1': 34.818717209585664}\n",
            "60 0.29755314269212363 {'s0': 34.82234286539395, 's1': 35.12234286539395}\n",
            "61 0.29160207983827746 {'s0': 35.11989600808607, 's1': 35.41989600808607}\n",
            "62 0.28577003824150893 {'s0': 35.41149808792435, 's1': 35.71149808792435}\n",
            "63 0.280054637476681 {'s0': 35.69726812616586, 's1': 35.99726812616586}\n",
            "64 0.27445354472715167 {'s0': 35.97732276364254, 's1': 36.27732276364254}\n",
            "65 0.2689644738326038 {'s0': 36.25177630836969, 's1': 36.55177630836969}\n",
            "66 0.2635851843559536 {'s0': 36.520740782202296, 's1': 36.82074078220229}\n",
            "67 0.2583134806688321 {'s0': 36.78432596655825, 's1': 37.08432596655825}\n",
            "68 0.253147211055456 {'s0': 37.04263944722708, 's1': 37.34263944722708}\n",
            "69 0.24808426683434703 {'s0': 37.29578665828254, 's1': 37.595786658282535}\n",
            "70 0.24312258149765853 {'s0': 37.543870925116885, 's1': 37.84387092511688}\n",
            "71 0.2382601298677116 {'s0': 37.78699350661454, 's1': 38.08699350661454}\n",
            "72 0.2334949272703568 {'s0': 38.025253636482255, 's1': 38.32525363648225}\n",
            "73 0.22882502872494825 {'s0': 38.25874856375261, 's1': 38.55874856375261}\n",
            "74 0.22424852815044716 {'s0': 38.48757359247756, 's1': 38.78757359247756}\n",
            "75 0.21976355758744148 {'s0': 38.71182212062801, 's1': 39.011822120628004}\n",
            "76 0.21536828643569095 {'s0': 38.93158567821545, 's1': 39.231585678215446}\n",
            "77 0.21106092070697713 {'s0': 39.14695396465114, 's1': 39.44695396465114}\n",
            "78 0.20683970229283943 {'s0': 39.358014885358116, 's1': 39.658014885358114}\n",
            "79 0.20270290824698378 {'s0': 39.564854587650956, 's1': 39.86485458765095}\n",
            "80 0.19864885008203714 {'s0': 39.76755749589794, 's1': 40.06755749589794}\n",
            "81 0.19467587308039924 {'s0': 39.96620634597998, 's1': 40.266206345979974}\n",
            "82 0.19078235561879353 {'s0': 40.160882219060376, 's1': 40.46088221906037}\n",
            "83 0.18696670850641794 {'s0': 40.35166457467917, 's1': 40.65166457467917}\n",
            "84 0.18322737433629044 {'s0': 40.53863128318559, 's1': 40.838631283185585}\n",
            "85 0.17956282684956193 {'s0': 40.72185865752188, 's1': 41.021858657521875}\n",
            "86 0.17597157031256927 {'s0': 40.90142148437144, 's1': 41.20142148437144}\n",
            "87 0.1724521389063156 {'s0': 41.07739305468401, 's1': 41.377393054684006}\n",
            "88 0.16900309612819342 {'s0': 41.249845193590325, 's1': 41.54984519359032}\n",
            "89 0.1656230342056304 {'s0': 41.41884828971852, 's1': 41.718848289718515}\n",
            "90 0.16231057352151623 {'s0': 41.58447132392415, 's1': 41.884471323924146}\n",
            "91 0.1590643620510832 {'s0': 41.746781897445665, 's1': 42.04678189744566}\n",
            "92 0.15588307481006325 {'s0': 41.90584625949675, 's1': 42.205846259496745}\n",
            "93 0.1527654133138654 {'s0': 42.06172933430681, 's1': 42.36172933430681}\n"
          ],
          "name": "stdout"
        }
      ]
    },
    {
      "cell_type": "code",
      "metadata": {
        "colab": {
          "base_uri": "https://localhost:8080/",
          "height": 296
        },
        "id": "gRRS7yJNcuAN",
        "outputId": "dd2e1a22-ddb6-4c6f-87a7-51a976d19330"
      },
      "source": [
        "if has_graphviz:\n",
        "  from mdp import plot_graph_with_state_values\n",
        "  display(plot_graph_with_state_values(mdp, state_values))"
      ],
      "execution_count": 95,
      "outputs": [
        {
          "output_type": "display_data",
          "data": {
            "text/plain": [
              "<graphviz.dot.Digraph at 0x7fd033ae9350>"
            ],
            "image/svg+xml": "<?xml version=\"1.0\" encoding=\"UTF-8\" standalone=\"no\"?>\n<!DOCTYPE svg PUBLIC \"-//W3C//DTD SVG 1.1//EN\"\n \"http://www.w3.org/Graphics/SVG/1.1/DTD/svg11.dtd\">\n<!-- Generated by graphviz version 2.40.1 (20161225.0304)\n -->\n<!-- Title: MDP Pages: 1 -->\n<svg width=\"720pt\" height=\"206pt\"\n viewBox=\"0.00 0.00 720.00 205.99\" xmlns=\"http://www.w3.org/2000/svg\" xmlns:xlink=\"http://www.w3.org/1999/xlink\">\n<g id=\"graph0\" class=\"graph\" transform=\"scale(.8633 .8633) rotate(0) translate(4 234.5936)\">\n<title>MDP</title>\n<polygon fill=\"#ffffff\" stroke=\"transparent\" points=\"-4,4 -4,-234.5936 829.9798,-234.5936 829.9798,4 -4,4\"/>\n<!-- s0 -->\n<g id=\"node1\" class=\"node\">\n<title>s0</title>\n<ellipse fill=\"#85ff75\" stroke=\"#85ff75\" cx=\"75.4178\" cy=\"-114.0164\" rx=\"71.34\" ry=\"71.34\"/>\n<ellipse fill=\"none\" stroke=\"#85ff75\" cx=\"75.4178\" cy=\"-114.0164\" rx=\"75.3357\" ry=\"75.3357\"/>\n<text text-anchor=\"middle\" x=\"75.4178\" y=\"-120.8164\" font-family=\"Arial\" font-size=\"24.00\" fill=\"#000000\">s0</text>\n<text text-anchor=\"middle\" x=\"75.4178\" y=\"-94.8164\" font-family=\"Arial\" font-size=\"24.00\" fill=\"#000000\">V =42.2</text>\n</g>\n<!-- s0&#45;a0 -->\n<g id=\"node2\" class=\"node\">\n<title>s0&#45;a0</title>\n<ellipse fill=\"#ffb6c1\" stroke=\"#ffb6c1\" cx=\"273.4127\" cy=\"-203.0164\" rx=\"27.6545\" ry=\"27.6545\"/>\n<text text-anchor=\"middle\" x=\"273.4127\" y=\"-198.0164\" font-family=\"Arial\" font-size=\"20.00\" fill=\"#000000\">a0</text>\n</g>\n<!-- s0&#45;&gt;s0&#45;a0 -->\n<g id=\"edge1\" class=\"edge\">\n<title>s0&#45;&gt;s0&#45;a0</title>\n<path fill=\"none\" stroke=\"#ff0000\" stroke-width=\"2\" d=\"M130.8858,-165.5692C142.7035,-174.284 155.6259,-182.3347 168.8356,-188.0164 189.7838,-197.0266 215.0505,-200.823 235.5003,-202.3447\"/>\n<polygon fill=\"#ff0000\" stroke=\"#ff0000\" stroke-width=\"2\" points=\"235.5174,-205.8517 245.7067,-202.9487 235.9309,-198.864 235.5174,-205.8517\"/>\n</g>\n<!-- s0&#45;a1 -->\n<g id=\"node4\" class=\"node\">\n<title>s0&#45;a1</title>\n<ellipse fill=\"#ffb6c1\" stroke=\"#ffb6c1\" cx=\"273.4127\" cy=\"-130.0164\" rx=\"27.6545\" ry=\"27.6545\"/>\n<text text-anchor=\"middle\" x=\"273.4127\" y=\"-125.0164\" font-family=\"Arial\" font-size=\"20.00\" fill=\"#000000\">a1</text>\n</g>\n<!-- s0&#45;&gt;s0&#45;a1 -->\n<g id=\"edge4\" class=\"edge\">\n<title>s0&#45;&gt;s0&#45;a1</title>\n<path fill=\"none\" stroke=\"#ff0000\" stroke-width=\"2\" d=\"M150.836,-120.111C179.7757,-122.4496 211.5698,-125.0189 235.524,-126.9546\"/>\n<polygon fill=\"#ff0000\" stroke=\"#ff0000\" stroke-width=\"2\" points=\"235.3592,-130.4526 245.6086,-127.7696 235.9231,-123.4754 235.3592,-130.4526\"/>\n</g>\n<!-- s0&#45;a2 -->\n<g id=\"node5\" class=\"node\">\n<title>s0&#45;a2</title>\n<ellipse fill=\"#ffb6c1\" stroke=\"#ffb6c1\" cx=\"273.4127\" cy=\"-57.0164\" rx=\"27.6545\" ry=\"27.6545\"/>\n<text text-anchor=\"middle\" x=\"273.4127\" y=\"-52.0164\" font-family=\"Arial\" font-size=\"20.00\" fill=\"#000000\">a2</text>\n</g>\n<!-- s0&#45;&gt;s0&#45;a2 -->\n<g id=\"edge6\" class=\"edge\">\n<title>s0&#45;&gt;s0&#45;a2</title>\n<path fill=\"none\" stroke=\"#ff0000\" stroke-width=\"2\" d=\"M148.0195,-93.1154C178.2841,-84.4027 212.0993,-74.6677 236.9804,-67.5048\"/>\n<polygon fill=\"#ff0000\" stroke=\"#ff0000\" stroke-width=\"2\" points=\"238.0817,-70.83 246.7231,-64.7 236.1451,-64.1032 238.0817,-70.83\"/>\n</g>\n<!-- s0&#45;a0&#45;&gt;s0 -->\n<g id=\"edge2\" class=\"edge\">\n<title>s0&#45;a0&#45;&gt;s0</title>\n<path fill=\"none\" stroke=\"#0000ff\" stroke-dasharray=\"5,2\" d=\"M253.2006,-184.0394C245.6588,-177.6754 236.7535,-170.9504 227.8356,-166.0164 206.2262,-154.0608 181.3833,-144.1648 158.1109,-136.3304\"/>\n<polygon fill=\"#0000ff\" stroke=\"#0000ff\" points=\"159.1864,-132.9998 148.5937,-133.2097 157.0053,-139.6513 159.1864,-132.9998\"/>\n<text text-anchor=\"middle\" x=\"198.3356\" y=\"-171.2164\" font-family=\"Arial\" font-size=\"16.00\" fill=\"#000000\">p = 0.05</text>\n</g>\n<!-- s1 -->\n<g id=\"node3\" class=\"node\">\n<title>s1</title>\n<ellipse fill=\"#85ff75\" stroke=\"#85ff75\" cx=\"542.4077\" cy=\"-104.0164\" rx=\"71.34\" ry=\"71.34\"/>\n<ellipse fill=\"none\" stroke=\"#85ff75\" cx=\"542.4077\" cy=\"-104.0164\" rx=\"75.3357\" ry=\"75.3357\"/>\n<text text-anchor=\"middle\" x=\"542.4077\" y=\"-110.8164\" font-family=\"Arial\" font-size=\"24.00\" fill=\"#000000\">s1</text>\n<text text-anchor=\"middle\" x=\"542.4077\" y=\"-84.8164\" font-family=\"Arial\" font-size=\"24.00\" fill=\"#000000\">V =42.5</text>\n</g>\n<!-- s0&#45;a0&#45;&gt;s1 -->\n<g id=\"edge3\" class=\"edge\">\n<title>s0&#45;a0&#45;&gt;s1</title>\n<path fill=\"none\" stroke=\"#0000ff\" stroke-dasharray=\"5,2\" d=\"M299.6949,-193.3437C336.9984,-179.6146 406.9053,-153.8863 462.148,-133.5549\"/>\n<polygon fill=\"#0000ff\" stroke=\"#0000ff\" points=\"463.4035,-136.8225 471.5792,-130.0839 460.9857,-130.2532 463.4035,-136.8225\"/>\n<text text-anchor=\"middle\" x=\"383.9899\" y=\"-189.2164\" font-family=\"Arial\" font-size=\"16.00\" fill=\"#000000\">p = 0.95</text>\n</g>\n<!-- s1&#45;a0 -->\n<g id=\"node6\" class=\"node\">\n<title>s1&#45;a0</title>\n<ellipse fill=\"#ffb6c1\" stroke=\"#ffb6c1\" cx=\"798.4026\" cy=\"-46.0164\" rx=\"27.6545\" ry=\"27.6545\"/>\n<text text-anchor=\"middle\" x=\"798.4026\" y=\"-41.0164\" font-family=\"Arial\" font-size=\"20.00\" fill=\"#000000\">a0</text>\n</g>\n<!-- s1&#45;&gt;s1&#45;a0 -->\n<g id=\"edge8\" class=\"edge\">\n<title>s1&#45;&gt;s1&#45;a0</title>\n<path fill=\"none\" stroke=\"#ff0000\" stroke-width=\"2\" d=\"M617.3261,-94.0791C657.9198,-87.7118 708.6678,-78.1512 752.8255,-65.0164 756.405,-63.9517 760.086,-62.6992 763.7304,-61.3536\"/>\n<polygon fill=\"#ff0000\" stroke=\"#ff0000\" stroke-width=\"2\" points=\"765.1659,-64.5502 773.1966,-57.6394 762.6091,-58.0338 765.1659,-64.5502\"/>\n</g>\n<!-- s1&#45;a1 -->\n<g id=\"node7\" class=\"node\">\n<title>s1&#45;a1</title>\n<ellipse fill=\"#ffb6c1\" stroke=\"#ffb6c1\" cx=\"798.4026\" cy=\"-128.0164\" rx=\"27.6545\" ry=\"27.6545\"/>\n<text text-anchor=\"middle\" x=\"798.4026\" y=\"-123.0164\" font-family=\"Arial\" font-size=\"20.00\" fill=\"#000000\">a1</text>\n</g>\n<!-- s1&#45;&gt;s1&#45;a1 -->\n<g id=\"edge11\" class=\"edge\">\n<title>s1&#45;&gt;s1&#45;a1</title>\n<path fill=\"none\" stroke=\"#ff0000\" stroke-width=\"2\" d=\"M618.1679,-106.3176C658.3338,-108.2274 708.4226,-111.7043 752.8255,-118.0164 755.6827,-118.4226 758.6273,-118.9094 761.5797,-119.4465\"/>\n<polygon fill=\"#ff0000\" stroke=\"#ff0000\" stroke-width=\"2\" points=\"761.0415,-122.9079 771.5317,-121.4223 762.4047,-116.0419 761.0415,-122.9079\"/>\n</g>\n<!-- s0&#45;a1&#45;&gt;s0 -->\n<g id=\"edge5\" class=\"edge\">\n<title>s0&#45;a1&#45;&gt;s0</title>\n<path fill=\"none\" stroke=\"#0000ff\" stroke-dasharray=\"5,2\" d=\"M252.0055,-112.2504C244.7765,-107.2954 236.3656,-102.5718 227.8356,-100.0164 205.9944,-93.4734 181.672,-92.889 158.9851,-95.0042\"/>\n<polygon fill=\"#0000ff\" stroke=\"#0000ff\" points=\"158.5864,-91.5268 149.0342,-96.1099 159.3596,-98.484 158.5864,-91.5268\"/>\n<text text-anchor=\"middle\" x=\"198.3356\" y=\"-105.2164\" font-family=\"Arial\" font-size=\"16.00\" fill=\"#000000\">p = 1</text>\n</g>\n<!-- s0&#45;a2&#45;&gt;s1 -->\n<g id=\"edge7\" class=\"edge\">\n<title>s0&#45;a2&#45;&gt;s1</title>\n<path fill=\"none\" stroke=\"#0000ff\" stroke-dasharray=\"5,2\" d=\"M300.6857,-61.7817C337.2763,-68.175 403.9124,-79.8179 457.9665,-89.2625\"/>\n<polygon fill=\"#0000ff\" stroke=\"#0000ff\" points=\"457.4499,-92.7252 467.9031,-90.9987 458.6548,-85.8297 457.4499,-92.7252\"/>\n<text text-anchor=\"middle\" x=\"383.9899\" y=\"-93.2164\" font-family=\"Arial\" font-size=\"16.00\" fill=\"#000000\">p = 1 &#160;reward =0.7</text>\n</g>\n<!-- s1&#45;a0&#45;&gt;s0 -->\n<g id=\"edge9\" class=\"edge\">\n<title>s1&#45;a0&#45;&gt;s0</title>\n<path fill=\"none\" stroke=\"#0000ff\" stroke-dasharray=\"5,2\" d=\"M772.1773,-36.2142C765.9128,-34.2007 759.194,-32.3049 752.8255,-31.0164 693.8221,-19.0789 677.9746,-22.4629 617.8255,-20.0164 452.6332,-13.2975 405.9414,21.2116 245.8356,-20.0164 210.6934,-29.0657 175.0435,-47.0663 145.497,-64.915\"/>\n<polygon fill=\"#0000ff\" stroke=\"#0000ff\" points=\"143.613,-61.9647 136.9319,-70.1874 147.2826,-67.9258 143.613,-61.9647\"/>\n<text text-anchor=\"middle\" x=\"383.9899\" y=\"-10.2164\" font-family=\"Arial\" font-size=\"16.00\" fill=\"#000000\">p = 0.5</text>\n</g>\n<!-- s1&#45;a0&#45;&gt;s1 -->\n<g id=\"edge10\" class=\"edge\">\n<title>s1&#45;a0&#45;&gt;s1</title>\n<path fill=\"none\" stroke=\"#0000ff\" stroke-dasharray=\"5,2\" d=\"M771.2604,-40.594C738.4232,-35.1428 681.8231,-29.3285 635.8255,-43.0164 627.4624,-45.5051 619.15,-49.0067 611.1294,-53.0877\"/>\n<polygon fill=\"#0000ff\" stroke=\"#0000ff\" points=\"609.3368,-50.0782 602.2107,-57.9184 612.6707,-56.2333 609.3368,-50.0782\"/>\n<text text-anchor=\"middle\" x=\"694.3255\" y=\"-48.2164\" font-family=\"Arial\" font-size=\"16.00\" fill=\"#000000\">p = 0.5</text>\n</g>\n<!-- s1&#45;a1&#45;&gt;s1 -->\n<g id=\"edge12\" class=\"edge\">\n<title>s1&#45;a1&#45;&gt;s1</title>\n<path fill=\"none\" stroke=\"#0000ff\" stroke-dasharray=\"5,2\" d=\"M770.7591,-126.1225C738.3872,-123.8313 683.1646,-119.6946 635.8255,-115.0164 633.1008,-114.7472 630.3324,-114.466 627.5376,-114.1757\"/>\n<polygon fill=\"#0000ff\" stroke=\"#0000ff\" points=\"627.6484,-110.6678 617.3339,-113.0889 626.907,-117.6284 627.6484,-110.6678\"/>\n<text text-anchor=\"middle\" x=\"694.3255\" y=\"-130.2164\" font-family=\"Arial\" font-size=\"16.00\" fill=\"#000000\">p = 1 &#160;reward =1</text>\n</g>\n</g>\n</svg>\n"
          },
          "metadata": {
            "tags": []
          }
        }
      ]
    },
    {
      "cell_type": "code",
      "metadata": {
        "id": "5d510L8BdPUO"
      },
      "source": [
        "\n",
        "def get_optimal_action(mdp, state_values, state, gamma):\n",
        "    if mdp.is_terminal(state):\n",
        "        return None\n",
        "    \n",
        "    action_values = [get_action_value(mdp, state_values, state, action, gamma) for action in mdp.get_possible_actions(state)]\n",
        "    argmax_index = np.argmax(action_values)\n",
        "    return mdp.get_possible_actions(state)[argmax_index]"
      ],
      "execution_count": 96,
      "outputs": []
    },
    {
      "cell_type": "code",
      "metadata": {
        "colab": {
          "base_uri": "https://localhost:8080/",
          "height": 292
        },
        "id": "VxBSscCudYlG",
        "outputId": "810f31d0-6954-418b-f08c-be260879f974"
      },
      "source": [
        "if has_graphviz:\n",
        "    from mdp import plot_graph_optimal_strategy_and_state_values\n",
        "    display(plot_graph_optimal_strategy_and_state_values(mdp, state_values, get_action_value))"
      ],
      "execution_count": 97,
      "outputs": [
        {
          "output_type": "display_data",
          "data": {
            "text/plain": [
              "<graphviz.dot.Digraph at 0x7fd033b29f50>"
            ],
            "image/svg+xml": "<?xml version=\"1.0\" encoding=\"UTF-8\" standalone=\"no\"?>\n<!DOCTYPE svg PUBLIC \"-//W3C//DTD SVG 1.1//EN\"\n \"http://www.w3.org/Graphics/SVG/1.1/DTD/svg11.dtd\">\n<!-- Generated by graphviz version 2.40.1 (20161225.0304)\n -->\n<!-- Title: MDP Pages: 1 -->\n<svg width=\"720pt\" height=\"203pt\"\n viewBox=\"0.00 0.00 720.00 203.44\" xmlns=\"http://www.w3.org/2000/svg\" xmlns:xlink=\"http://www.w3.org/1999/xlink\">\n<g id=\"graph0\" class=\"graph\" transform=\"scale(.8633 .8633) rotate(0) translate(4 231.6499)\">\n<title>MDP</title>\n<polygon fill=\"#ffffff\" stroke=\"transparent\" points=\"-4,4 -4,-231.6499 829.9798,-231.6499 829.9798,4 -4,4\"/>\n<!-- s0 -->\n<g id=\"node1\" class=\"node\">\n<title>s0</title>\n<ellipse fill=\"#85ff75\" stroke=\"#85ff75\" cx=\"75.4178\" cy=\"-96.0727\" rx=\"71.34\" ry=\"71.34\"/>\n<ellipse fill=\"none\" stroke=\"#85ff75\" cx=\"75.4178\" cy=\"-96.0727\" rx=\"75.3357\" ry=\"75.3357\"/>\n<text text-anchor=\"middle\" x=\"75.4178\" y=\"-102.8727\" font-family=\"Arial\" font-size=\"24.00\" fill=\"#000000\">s0</text>\n<text text-anchor=\"middle\" x=\"75.4178\" y=\"-76.8727\" font-family=\"Arial\" font-size=\"24.00\" fill=\"#000000\">V =42.2</text>\n</g>\n<!-- s0&#45;a0 -->\n<g id=\"node2\" class=\"node\">\n<title>s0&#45;a0</title>\n<ellipse fill=\"#ffb6c1\" stroke=\"#ffb6c1\" cx=\"273.4127\" cy=\"-200.0727\" rx=\"27.6545\" ry=\"27.6545\"/>\n<text text-anchor=\"middle\" x=\"273.4127\" y=\"-195.0727\" font-family=\"Arial\" font-size=\"20.00\" fill=\"#000000\">a0</text>\n</g>\n<!-- s0&#45;&gt;s0&#45;a0 -->\n<g id=\"edge1\" class=\"edge\">\n<title>s0&#45;&gt;s0&#45;a0</title>\n<path fill=\"none\" stroke=\"#ff0000\" stroke-width=\"2\" d=\"M124.9477,-153.0405C138.0613,-165.0247 153.0142,-176.3581 168.8356,-184.0727 189.4551,-194.1269 214.8473,-198.179 235.4472,-199.6925\"/>\n<polygon fill=\"#ff0000\" stroke=\"#ff0000\" stroke-width=\"2\" points=\"235.2494,-203.1868 245.4317,-200.2589 235.646,-196.198 235.2494,-203.1868\"/>\n</g>\n<!-- s0&#45;a1 -->\n<g id=\"node4\" class=\"node\">\n<title>s0&#45;a1</title>\n<ellipse fill=\"#ffb6c1\" stroke=\"#ffb6c1\" cx=\"273.4127\" cy=\"-127.0727\" rx=\"27.6545\" ry=\"27.6545\"/>\n<text text-anchor=\"middle\" x=\"273.4127\" y=\"-122.0727\" font-family=\"Arial\" font-size=\"20.00\" fill=\"#000000\">a1</text>\n</g>\n<!-- s0&#45;&gt;s0&#45;a1 -->\n<g id=\"edge4\" class=\"edge\">\n<title>s0&#45;&gt;s0&#45;a1</title>\n<path fill=\"none\" stroke=\"#ff0000\" stroke-width=\"2\" d=\"M149.2505,-111.7026C155.8602,-112.916 162.4607,-114.0606 168.8356,-115.0727 190.8664,-118.5704 215.6634,-121.4608 235.5801,-123.5278\"/>\n<polygon fill=\"#ff0000\" stroke=\"#ff0000\" stroke-width=\"2\" points=\"235.4999,-127.0375 245.8013,-124.5613 236.2042,-120.073 235.4999,-127.0375\"/>\n</g>\n<!-- s0&#45;a2 -->\n<g id=\"node5\" class=\"node\">\n<title>s0&#45;a2</title>\n<ellipse fill=\"#ffb6c1\" stroke=\"#ffb6c1\" cx=\"273.4127\" cy=\"-54.0727\" rx=\"27.6545\" ry=\"27.6545\"/>\n<text text-anchor=\"middle\" x=\"273.4127\" y=\"-49.0727\" font-family=\"Arial\" font-size=\"20.00\" fill=\"#000000\">a2</text>\n</g>\n<!-- s0&#45;&gt;s0&#45;a2 -->\n<g id=\"edge6\" class=\"edge\">\n<title>s0&#45;&gt;s0&#45;a2</title>\n<path fill=\"none\" stroke=\"#ff0000\" stroke-width=\"2\" d=\"M147.739,-74.2042C177.5103,-67.3805 210.7598,-60.6894 235.5773,-56.6574\"/>\n<polygon fill=\"#ff0000\" stroke=\"#ff0000\" stroke-width=\"2\" points=\"236.314,-60.0852 245.6625,-55.0996 235.2454,-53.1673 236.314,-60.0852\"/>\n</g>\n<!-- s0&#45;&gt;s0&#45;a2 -->\n<g id=\"edge13\" class=\"edge\">\n<title>s0&#45;&gt;s0&#45;a2</title>\n<path fill=\"none\" stroke=\"#00ff00\" stroke-width=\"6\" d=\"M150.2712,-86.7626C180.1672,-80.8791 213.1917,-73.4652 237.5089,-67.0315\"/>\n<polygon fill=\"#00ff00\" stroke=\"#00ff00\" stroke-width=\"6\" points=\"239.0986,-72.0397 247.363,-64.3415 236.3334,-61.9104 239.0986,-72.0397\"/>\n</g>\n<!-- s0&#45;a0&#45;&gt;s0 -->\n<g id=\"edge2\" class=\"edge\">\n<title>s0&#45;a0&#45;&gt;s0</title>\n<path fill=\"none\" stroke=\"#0000ff\" stroke-dasharray=\"5,2\" d=\"M253.0392,-180.9543C245.4822,-174.4532 236.6086,-167.4735 227.8356,-162.0727 214.4301,-153.8203 184.7345,-140.6017 155.0827,-128.1542\"/>\n<polygon fill=\"#0000ff\" stroke=\"#0000ff\" points=\"156.0544,-124.7672 145.4778,-124.1471 153.3593,-131.2276 156.0544,-124.7672\"/>\n<text text-anchor=\"middle\" x=\"198.3356\" y=\"-167.2727\" font-family=\"Arial\" font-size=\"16.00\" fill=\"#000000\">p = 0.05</text>\n</g>\n<!-- s1 -->\n<g id=\"node3\" class=\"node\">\n<title>s1</title>\n<ellipse fill=\"#85ff75\" stroke=\"#85ff75\" cx=\"542.4077\" cy=\"-101.0727\" rx=\"71.34\" ry=\"71.34\"/>\n<ellipse fill=\"none\" stroke=\"#85ff75\" cx=\"542.4077\" cy=\"-101.0727\" rx=\"75.3357\" ry=\"75.3357\"/>\n<text text-anchor=\"middle\" x=\"542.4077\" y=\"-107.8727\" font-family=\"Arial\" font-size=\"24.00\" fill=\"#000000\">s1</text>\n<text text-anchor=\"middle\" x=\"542.4077\" y=\"-81.8727\" font-family=\"Arial\" font-size=\"24.00\" fill=\"#000000\">V =42.5</text>\n</g>\n<!-- s0&#45;a0&#45;&gt;s1 -->\n<g id=\"edge3\" class=\"edge\">\n<title>s0&#45;a0&#45;&gt;s1</title>\n<path fill=\"none\" stroke=\"#0000ff\" stroke-dasharray=\"5,2\" d=\"M299.6949,-190.3999C336.9984,-176.6709 406.9053,-150.9426 462.148,-130.6112\"/>\n<polygon fill=\"#0000ff\" stroke=\"#0000ff\" points=\"463.4035,-133.8787 471.5792,-127.1402 460.9857,-127.3095 463.4035,-133.8787\"/>\n<text text-anchor=\"middle\" x=\"383.9899\" y=\"-186.2727\" font-family=\"Arial\" font-size=\"16.00\" fill=\"#000000\">p = 0.95</text>\n</g>\n<!-- s1&#45;a0 -->\n<g id=\"node6\" class=\"node\">\n<title>s1&#45;a0</title>\n<ellipse fill=\"#ffb6c1\" stroke=\"#ffb6c1\" cx=\"798.4026\" cy=\"-30.0727\" rx=\"27.6545\" ry=\"27.6545\"/>\n<text text-anchor=\"middle\" x=\"798.4026\" y=\"-25.0727\" font-family=\"Arial\" font-size=\"20.00\" fill=\"#000000\">a0</text>\n</g>\n<!-- s1&#45;&gt;s1&#45;a0 -->\n<g id=\"edge8\" class=\"edge\">\n<title>s1&#45;&gt;s1&#45;a0</title>\n<path fill=\"none\" stroke=\"#ff0000\" stroke-width=\"2\" d=\"M617.0727,-87.8693C657.8181,-79.6271 708.7892,-67.6129 752.8255,-52.0727 756.6316,-50.7296 760.5394,-49.16 764.3897,-47.4886\"/>\n<polygon fill=\"#ff0000\" stroke=\"#ff0000\" stroke-width=\"2\" points=\"766.1212,-50.5451 773.7518,-43.195 763.2031,-44.1824 766.1212,-50.5451\"/>\n</g>\n<!-- s1&#45;a1 -->\n<g id=\"node7\" class=\"node\">\n<title>s1&#45;a1</title>\n<ellipse fill=\"#ffb6c1\" stroke=\"#ffb6c1\" cx=\"798.4026\" cy=\"-103.0727\" rx=\"27.6545\" ry=\"27.6545\"/>\n<text text-anchor=\"middle\" x=\"798.4026\" y=\"-98.0727\" font-family=\"Arial\" font-size=\"20.00\" fill=\"#000000\">a1</text>\n</g>\n<!-- s1&#45;&gt;s1&#45;a1 -->\n<g id=\"edge11\" class=\"edge\">\n<title>s1&#45;&gt;s1&#45;a1</title>\n<path fill=\"none\" stroke=\"#ff0000\" stroke-width=\"2\" d=\"M617.83,-95.4459C664.812,-94.8041 723.2322,-95.6814 760.6705,-97.8246\"/>\n<polygon fill=\"#ff0000\" stroke=\"#ff0000\" stroke-width=\"2\" points=\"760.9088,-101.347 771.1128,-98.496 761.3581,-94.3615 760.9088,-101.347\"/>\n</g>\n<!-- s1&#45;&gt;s1&#45;a1 -->\n<g id=\"edge14\" class=\"edge\">\n<title>s1&#45;&gt;s1&#45;a1</title>\n<path fill=\"none\" stroke=\"#00ff00\" stroke-width=\"6\" d=\"M617.83,-107.878C664.812,-109.254 723.2322,-109.2895 760.6705,-107.7313\"/>\n<polygon fill=\"#00ff00\" stroke=\"#00ff00\" stroke-width=\"6\" points=\"761.3799,-112.9531 771.1128,-107.223 760.8694,-102.4655 761.3799,-112.9531\"/>\n</g>\n<!-- s0&#45;a1&#45;&gt;s0 -->\n<g id=\"edge5\" class=\"edge\">\n<title>s0&#45;a1&#45;&gt;s0</title>\n<path fill=\"none\" stroke=\"#0000ff\" stroke-dasharray=\"5,2\" d=\"M253.2519,-107.6882C245.8486,-101.817 237.0175,-96.1202 227.8356,-93.0727 206.5972,-86.0236 182.7617,-83.958 160.3615,-84.3531\"/>\n<polygon fill=\"#0000ff\" stroke=\"#0000ff\" points=\"160.0604,-80.8612 150.1849,-84.6987 160.298,-87.8572 160.0604,-80.8612\"/>\n<text text-anchor=\"middle\" x=\"198.3356\" y=\"-98.2727\" font-family=\"Arial\" font-size=\"16.00\" fill=\"#000000\">p = 1</text>\n</g>\n<!-- s0&#45;a2&#45;&gt;s1 -->\n<g id=\"edge7\" class=\"edge\">\n<title>s0&#45;a2&#45;&gt;s1</title>\n<path fill=\"none\" stroke=\"#0000ff\" stroke-dasharray=\"5,2\" d=\"M300.6857,-58.838C337.2763,-65.2313 403.9124,-76.8742 457.9665,-86.3188\"/>\n<polygon fill=\"#0000ff\" stroke=\"#0000ff\" points=\"457.4499,-89.7815 467.9031,-88.055 458.6548,-82.8859 457.4499,-89.7815\"/>\n<text text-anchor=\"middle\" x=\"383.9899\" y=\"-90.2727\" font-family=\"Arial\" font-size=\"16.00\" fill=\"#000000\">p = 1 &#160;reward =0.7</text>\n</g>\n<!-- s1&#45;a0&#45;&gt;s0 -->\n<g id=\"edge9\" class=\"edge\">\n<title>s1&#45;a0&#45;&gt;s0</title>\n<path fill=\"none\" stroke=\"#0000ff\" stroke-dasharray=\"5,2\" d=\"M772.2011,-20.57C765.9357,-18.7054 759.2104,-17.0313 752.8255,-16.0727 701.4017,-8.3528 687.8254,-16.0061 635.8255,-16.0727 462.4962,-16.295 415.0506,20.4689 245.8356,-17.0727 212.9424,-24.3703 178.8417,-38.6452 149.8658,-53.0769\"/>\n<polygon fill=\"#0000ff\" stroke=\"#0000ff\" points=\"147.9772,-50.1104 140.6461,-57.7593 151.147,-56.3516 147.9772,-50.1104\"/>\n<text text-anchor=\"middle\" x=\"383.9899\" y=\"-10.2727\" font-family=\"Arial\" font-size=\"16.00\" fill=\"#000000\">p = 0.5</text>\n</g>\n<!-- s1&#45;a0&#45;&gt;s1 -->\n<g id=\"edge10\" class=\"edge\">\n<title>s1&#45;a0&#45;&gt;s1</title>\n<path fill=\"none\" stroke=\"#0000ff\" stroke-dasharray=\"5,2\" d=\"M771.0824,-24.8864C738.07,-19.7804 681.2973,-14.7539 635.8255,-30.0727 625.701,-33.4835 615.804,-38.4767 606.4664,-44.2606\"/>\n<polygon fill=\"#0000ff\" stroke=\"#0000ff\" points=\"604.5027,-41.3629 598.0578,-49.7721 608.34,-47.2174 604.5027,-41.3629\"/>\n<text text-anchor=\"middle\" x=\"694.3255\" y=\"-35.2727\" font-family=\"Arial\" font-size=\"16.00\" fill=\"#000000\">p = 0.5</text>\n</g>\n<!-- s1&#45;a1&#45;&gt;s1 -->\n<g id=\"edge12\" class=\"edge\">\n<title>s1&#45;a1&#45;&gt;s1</title>\n<path fill=\"none\" stroke=\"#0000ff\" stroke-dasharray=\"5,2\" d=\"M773.3563,-114.9078C766.8176,-117.453 759.6786,-119.7685 752.8255,-121.0727 711.4612,-128.945 664.9037,-125.742 626.1187,-119.8106\"/>\n<polygon fill=\"#0000ff\" stroke=\"#0000ff\" points=\"626.3469,-116.3021 615.9165,-118.161 625.2296,-123.2123 626.3469,-116.3021\"/>\n<text text-anchor=\"middle\" x=\"694.3255\" y=\"-131.2727\" font-family=\"Arial\" font-size=\"16.00\" fill=\"#000000\">p = 1 &#160;reward =1</text>\n</g>\n</g>\n</svg>\n"
          },
          "metadata": {
            "tags": []
          }
        }
      ]
    },
    {
      "cell_type": "code",
      "metadata": {
        "id": "9T3IBoFPdbGn"
      },
      "source": [
        ""
      ],
      "execution_count": 97,
      "outputs": []
    }
  ]
}