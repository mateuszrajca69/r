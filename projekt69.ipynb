{
  "nbformat": 4,
  "nbformat_minor": 0,
  "metadata": {
    "colab": {
      "name": "projekt69.ipynb",
      "provenance": [],
      "collapsed_sections": [],
      "authorship_tag": "ABX9TyPSK1RvfFDlHd7iYDbBJSG+",
      "include_colab_link": true
    },
    "kernelspec": {
      "name": "python3",
      "display_name": "Python 3"
    }
  },
  "cells": [
    {
      "cell_type": "markdown",
      "metadata": {
        "id": "view-in-github",
        "colab_type": "text"
      },
      "source": [
        "<a href=\"https://colab.research.google.com/github/mateuszrajca69/r/blob/main/projekt69.ipynb\" target=\"_parent\"><img src=\"https://colab.research.google.com/assets/colab-badge.svg\" alt=\"Open In Colab\"/></a>"
      ]
    },
    {
      "cell_type": "code",
      "metadata": {
        "colab": {
          "base_uri": "https://localhost:8080/"
        },
        "id": "3csMuRWIBn6F",
        "outputId": "29a53f82-9a89-451e-96e6-fb07c09e9dd9"
      },
      "source": [
        "!pip install ortools"
      ],
      "execution_count": 2,
      "outputs": [
        {
          "output_type": "stream",
          "text": [
            "Requirement already satisfied: ortools in /usr/local/lib/python3.6/dist-packages (8.1.8487)\n",
            "Requirement already satisfied: absl-py>=0.11 in /usr/local/lib/python3.6/dist-packages (from ortools) (0.11.0)\n",
            "Requirement already satisfied: protobuf>=3.14.0 in /usr/local/lib/python3.6/dist-packages (from ortools) (3.14.0)\n",
            "Requirement already satisfied: six in /usr/local/lib/python3.6/dist-packages (from absl-py>=0.11->ortools) (1.15.0)\n"
          ],
          "name": "stdout"
        }
      ]
    },
    {
      "cell_type": "code",
      "metadata": {
        "colab": {
          "base_uri": "https://localhost:8080/"
        },
        "id": "Aak-kEHdCLOO",
        "outputId": "2678f628-d06b-474b-8dd9-301ab314f8ce"
      },
      "source": [
        "pip install --user ortools"
      ],
      "execution_count": 1,
      "outputs": [
        {
          "output_type": "stream",
          "text": [
            "Requirement already satisfied: ortools in /usr/local/lib/python3.6/dist-packages (8.1.8487)\n",
            "Requirement already satisfied: protobuf>=3.14.0 in /usr/local/lib/python3.6/dist-packages (from ortools) (3.14.0)\n",
            "Requirement already satisfied: absl-py>=0.11 in /usr/local/lib/python3.6/dist-packages (from ortools) (0.11.0)\n",
            "Requirement already satisfied: six>=1.9 in /usr/local/lib/python3.6/dist-packages (from protobuf>=3.14.0->ortools) (1.15.0)\n"
          ],
          "name": "stdout"
        }
      ]
    },
    {
      "cell_type": "code",
      "metadata": {
        "id": "g42dJ-bKCU9M"
      },
      "source": [
        "#Poniższy kod importuje wymagane biblioteki.\r\n",
        "from ortools.linear_solver import pywraplp"
      ],
      "execution_count": 3,
      "outputs": []
    },
    {
      "cell_type": "code",
      "metadata": {
        "colab": {
          "base_uri": "https://localhost:8080/"
        },
        "id": "m7GHL_A1Cgk1",
        "outputId": "8e97410a-ced0-4c1d-c12d-e3e3cfbfead3"
      },
      "source": [
        "def create_data_model():\r\n",
        "    \"\"\"Create the data for the example.\"\"\"\r\n",
        "    data = {}\r\n",
        "    weights = [48, 30, 19, 36, 36, 27, 42, 42, 36, 24, 30]    #wagi: wektor zawierający wagi elementów.\r\n",
        "    data['weights'] = weights\r\n",
        "    data['items'] = list(range(len(weights)))\r\n",
        "    data['bins'] = data['items']                              \r\n",
        "    data['bin_capacity'] = 100                                #bin_capacity: pojedyncza liczba określająca pojemność pojemników.\r\n",
        "    return data\r\n",
        "\r\n",
        "\r\n",
        "    #maksymalna liczba pojemników, których można potrzebować, to liczba przedmiotów, ponieważ zawsze można umieścić każdy przedmiot w oddzielnym koszu.\r\n",
        "\r\n",
        "\r\n",
        "\r\n",
        "    \r\n",
        "def main():\r\n",
        "    data = create_data_model()\r\n",
        "\r\n",
        "\r\n",
        "# zastosowano solver do programowania mieszanych liczb całkowitych. Poniższy kod deklaruje solver.\r\n",
        "    solver = pywraplp.Solver.CreateSolver('SCIP')\r\n",
        "\r\n",
        "\r\n",
        "   \r\n",
        "# x [i, j] = 1, jeśli element i jest zapakowany do pojemnika j.\r\n",
        "    x = {}\r\n",
        "    for i in data['items']:\r\n",
        "        for j in data['bins']:\r\n",
        "            x[(i, j)] = solver.IntVar(0, 1, 'x_%i_%i' % (i, j))\r\n",
        "\r\n",
        "   \r\n",
        "# y [j] = 1, jeśli używany jest bin j.\r\n",
        "    y = {}\r\n",
        "    for j in data['bins']:\r\n",
        "        y[j] = solver.IntVar(0, 1, 'y[%i]' % j)\r\n",
        "\r\n",
        "#Podobnie jak  z wieloma plecakami, definiuje tablicę zmiennych x [(i, j)], których wartość wynosi 1, jeśli element i zostanie umieszczony w bin j, a 0 w przeciwnym razie.\r\n",
        "#W przypadku pakowania w przedział definiuje się również tablicę zmiennych y [j], której wartość wynosi 1, jeśli używany jest przedział j - to znaczy, \r\n",
        "#jeśli są w niej spakowane jakiekolwiek elementy - i 0 w przeciwnym razie. Suma y [j] będzie liczbą użytych przedziałów.\r\n",
        "\r\n",
        " \r\n",
        "  #Poniższy kod definiuje ograniczenia problemu:\r\n",
        "    for i in data['items']:\r\n",
        "        solver.Add(sum(x[i, j] for j in data['bins']) == 1)\r\n",
        "\r\n",
        "    \r\n",
        "# Ilość umieszczona w każdym pojemniku nie może przekraczać jego pojemności.\r\n",
        "    for j in data['bins']:\r\n",
        "        solver.Add(\r\n",
        "            sum(x[(i, j)] * data['weights'][i] for i in data['items']) <= y[j] *\r\n",
        "            data['bin_capacity'])\r\n",
        "#Każdy przedmiot należy umieścić w dokładnie jednym pojemniku. To ograniczenie jest ustalane przez wymaganie, aby suma x [i] [j] na wszystkich pojemnikach j była równa 1. \r\n",
        "\r\n",
        "   \r\n",
        "# Cel: zminimalizować liczbę używanych pojemników.\r\n",
        "    solver.Minimize(solver.Sum([y[j] for j in data['bins']]))\r\n",
        "\r\n",
        "\r\n",
        "\r\n",
        "#Poniższy kod wywołuje solver i wyświetla rozwiązanie.\r\n",
        "    status = solver.Solve()\r\n",
        "\r\n",
        "    if status == pywraplp.Solver.OPTIMAL:\r\n",
        "        num_bins = 0.\r\n",
        "        for j in data['bins']:\r\n",
        "            if y[j].solution_value() == 1:\r\n",
        "                bin_items = []\r\n",
        "                bin_weight = 0\r\n",
        "                for i in data['items']:\r\n",
        "                    if x[i, j].solution_value() > 0:\r\n",
        "                        bin_items.append(i)\r\n",
        "                        bin_weight += data['weights'][i]\r\n",
        "                if bin_weight > 0:\r\n",
        "                    num_bins += 1\r\n",
        "                    print('Bin number', j)\r\n",
        "                    print('  Items packed:', bin_items)\r\n",
        "                    print('  Total weight:', bin_weight)\r\n",
        "                    print()\r\n",
        "        print()\r\n",
        "        print('Number of bins used:', num_bins)\r\n",
        "        print('Time = ', solver.WallTime(), ' milliseconds')\r\n",
        "    else:\r\n",
        "        print('The problem does not have an optimal solution.')\r\n",
        "\r\n",
        "\r\n",
        "if __name__ == '__main__':\r\n",
        "    main()"
      ],
      "execution_count": 7,
      "outputs": [
        {
          "output_type": "stream",
          "text": [
            "Bin number 0\n",
            "  Items packed: [0, 1, 2]\n",
            "  Total weight: 97\n",
            "\n",
            "Bin number 1\n",
            "  Items packed: [3, 4, 5]\n",
            "  Total weight: 99\n",
            "\n",
            "Bin number 2\n",
            "  Items packed: [6, 7]\n",
            "  Total weight: 84\n",
            "\n",
            "Bin number 3\n",
            "  Items packed: [8, 9, 10]\n",
            "  Total weight: 90\n",
            "\n",
            "\n",
            "Number of bins used: 4.0\n",
            "Time =  20  milliseconds\n"
          ],
          "name": "stdout"
        }
      ]
    },
    {
      "cell_type": "code",
      "metadata": {
        "id": "2g4KA0R8CjU9"
      },
      "source": [
        "#Rozwiązanie pokazuje minimalną liczbę pojemników potrzebną do zapakowania wszystkich artykułów. Dla każdego używanego pojemnika rozwiązanie pokazuje zapakowane w nim elementy i całkowitą wagę pojemnika."
      ],
      "execution_count": 8,
      "outputs": []
    },
    {
      "cell_type": "code",
      "metadata": {
        "id": "Fxf0pVxrGBPl"
      },
      "source": [
        ""
      ],
      "execution_count": 14,
      "outputs": []
    },
    {
      "cell_type": "code",
      "metadata": {
        "id": "_nskAipeGLZ_"
      },
      "source": [
        ""
      ],
      "execution_count": 14,
      "outputs": []
    },
    {
      "cell_type": "code",
      "metadata": {
        "id": "bhsTCYRdFONm"
      },
      "source": [
        ""
      ],
      "execution_count": 14,
      "outputs": []
    },
    {
      "cell_type": "code",
      "metadata": {
        "id": "Nd0GPI3XF3fQ"
      },
      "source": [
        ""
      ],
      "execution_count": null,
      "outputs": []
    }
  ]
}