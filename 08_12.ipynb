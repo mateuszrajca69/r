{
  "nbformat": 4,
  "nbformat_minor": 0,
  "metadata": {
    "colab": {
      "name": " 08.12.ipynb",
      "provenance": [],
      "collapsed_sections": [],
      "include_colab_link": true
    },
    "kernelspec": {
      "name": "python3",
      "display_name": "Python 3"
    },
    "accelerator": "GPU"
  },
  "cells": [
    {
      "cell_type": "markdown",
      "metadata": {
        "id": "view-in-github",
        "colab_type": "text"
      },
      "source": [
        "<a href=\"https://colab.research.google.com/github/mateuszrajca69/r/blob/main/08_12.ipynb\" target=\"_parent\"><img src=\"https://colab.research.google.com/assets/colab-badge.svg\" alt=\"Open In Colab\"/></a>"
      ]
    },
    {
      "cell_type": "markdown",
      "metadata": {
        "id": "RQH7zbVF8v6g"
      },
      "source": [
        "\n",
        "\n",
        "# **A regression example**\n",
        "\n",
        "Common type of machine learning problem is \"regression\", which consists of predicting a continuous value instead of a discrete label. For instance, predicting the temperature tomorrow, given meteorological data, or predicting the time that a software project will take to complete, given its specifications.\n",
        "\n"
      ]
    },
    {
      "cell_type": "code",
      "metadata": {
        "id": "6Zl5s4feH_v4"
      },
      "source": [
        "\n",
        "from keras.models import Sequential\n",
        "from keras.layers import Activation, Dense, Dropout\n",
        "from keras import optimizers\n",
        "from keras.callbacks import EarlyStopping\n",
        "\n",
        "import numpy as np\n",
        "import matplotlib.pyplot as plt\n",
        "\n"
      ],
      "execution_count": null,
      "outputs": []
    },
    {
      "cell_type": "code",
      "metadata": {
        "id": "UPLs1KVCSZsQ",
        "colab": {
          "base_uri": "https://localhost:8080/"
        },
        "outputId": "4e21d071-4228-4c1d-e30c-6bece08873ff"
      },
      "source": [
        "# install optuna\n",
        "! pip install optuna"
      ],
      "execution_count": null,
      "outputs": [
        {
          "output_type": "stream",
          "text": [
            "Collecting optuna\n",
            "\u001b[?25l  Downloading https://files.pythonhosted.org/packages/87/10/06b58f4120f26b603d905a594650440ea1fd74476b8b360dbf01e111469b/optuna-2.3.0.tar.gz (258kB)\n",
            "\r\u001b[K     |█▎                              | 10kB 27.2MB/s eta 0:00:01\r\u001b[K     |██▌                             | 20kB 15.9MB/s eta 0:00:01\r\u001b[K     |███▉                            | 30kB 14.7MB/s eta 0:00:01\r\u001b[K     |█████                           | 40kB 14.3MB/s eta 0:00:01\r\u001b[K     |██████▍                         | 51kB 11.2MB/s eta 0:00:01\r\u001b[K     |███████▋                        | 61kB 11.2MB/s eta 0:00:01\r\u001b[K     |████████▉                       | 71kB 11.2MB/s eta 0:00:01\r\u001b[K     |██████████▏                     | 81kB 11.4MB/s eta 0:00:01\r\u001b[K     |███████████▍                    | 92kB 12.3MB/s eta 0:00:01\r\u001b[K     |████████████▊                   | 102kB 12.3MB/s eta 0:00:01\r\u001b[K     |██████████████                  | 112kB 12.3MB/s eta 0:00:01\r\u001b[K     |███████████████▏                | 122kB 12.3MB/s eta 0:00:01\r\u001b[K     |████████████████▌               | 133kB 12.3MB/s eta 0:00:01\r\u001b[K     |█████████████████▊              | 143kB 12.3MB/s eta 0:00:01\r\u001b[K     |███████████████████             | 153kB 12.3MB/s eta 0:00:01\r\u001b[K     |████████████████████▎           | 163kB 12.3MB/s eta 0:00:01\r\u001b[K     |█████████████████████▌          | 174kB 12.3MB/s eta 0:00:01\r\u001b[K     |██████████████████████▉         | 184kB 12.3MB/s eta 0:00:01\r\u001b[K     |████████████████████████        | 194kB 12.3MB/s eta 0:00:01\r\u001b[K     |█████████████████████████▍      | 204kB 12.3MB/s eta 0:00:01\r\u001b[K     |██████████████████████████▋     | 215kB 12.3MB/s eta 0:00:01\r\u001b[K     |███████████████████████████▉    | 225kB 12.3MB/s eta 0:00:01\r\u001b[K     |█████████████████████████████▏  | 235kB 12.3MB/s eta 0:00:01\r\u001b[K     |██████████████████████████████▍ | 245kB 12.3MB/s eta 0:00:01\r\u001b[K     |███████████████████████████████▊| 256kB 12.3MB/s eta 0:00:01\r\u001b[K     |████████████████████████████████| 266kB 12.3MB/s \n",
            "\u001b[?25h  Installing build dependencies ... \u001b[?25l\u001b[?25hdone\n",
            "  Getting requirements to build wheel ... \u001b[?25l\u001b[?25hdone\n",
            "    Preparing wheel metadata ... \u001b[?25l\u001b[?25hdone\n",
            "Collecting alembic\n",
            "\u001b[?25l  Downloading https://files.pythonhosted.org/packages/12/aa/c261dfd7f4ba6ce4701846a2689a46e2a172e012171de4378fc2926e3bf0/alembic-1.4.3-py2.py3-none-any.whl (159kB)\n",
            "\u001b[K     |████████████████████████████████| 163kB 36.7MB/s \n",
            "\u001b[?25hRequirement already satisfied: scipy!=1.4.0 in /usr/local/lib/python3.6/dist-packages (from optuna) (1.4.1)\n",
            "Requirement already satisfied: joblib in /usr/local/lib/python3.6/dist-packages (from optuna) (0.17.0)\n",
            "Collecting cmaes>=0.6.0\n",
            "  Downloading https://files.pythonhosted.org/packages/8d/3c/06c76ec8b54b9b1fad7f35e903fd25010fe3e0d41bd94cea5e6f12e0d651/cmaes-0.7.0-py3-none-any.whl\n",
            "Collecting colorlog\n",
            "  Downloading https://files.pythonhosted.org/packages/4e/c8/c16d30bbed11a1722060014c246d124582d1f781b26f5859d8dacc3e08e1/colorlog-4.6.2-py2.py3-none-any.whl\n",
            "Requirement already satisfied: numpy in /usr/local/lib/python3.6/dist-packages (from optuna) (1.18.5)\n",
            "Requirement already satisfied: tqdm in /usr/local/lib/python3.6/dist-packages (from optuna) (4.41.1)\n",
            "Requirement already satisfied: sqlalchemy>=1.1.0 in /usr/local/lib/python3.6/dist-packages (from optuna) (1.3.20)\n",
            "Collecting cliff\n",
            "\u001b[?25l  Downloading https://files.pythonhosted.org/packages/8a/61/5b64d73b01c1218f55c894b5ec0fb89b32c6960b7f7b3ad9f5ac0c373b9d/cliff-3.5.0-py3-none-any.whl (81kB)\n",
            "\u001b[K     |████████████████████████████████| 81kB 11.8MB/s \n",
            "\u001b[?25hRequirement already satisfied: packaging>=20.0 in /usr/local/lib/python3.6/dist-packages (from optuna) (20.4)\n",
            "Collecting python-editor>=0.3\n",
            "  Downloading https://files.pythonhosted.org/packages/c6/d3/201fc3abe391bbae6606e6f1d598c15d367033332bd54352b12f35513717/python_editor-1.0.4-py3-none-any.whl\n",
            "Collecting Mako\n",
            "\u001b[?25l  Downloading https://files.pythonhosted.org/packages/a6/37/0e706200d22172eb8fa17d68a7ae22dec7631a0a92266634fb518a88a5b2/Mako-1.1.3-py2.py3-none-any.whl (75kB)\n",
            "\u001b[K     |████████████████████████████████| 81kB 12.7MB/s \n",
            "\u001b[?25hRequirement already satisfied: python-dateutil in /usr/local/lib/python3.6/dist-packages (from alembic->optuna) (2.8.1)\n",
            "Requirement already satisfied: pyparsing>=2.1.0 in /usr/local/lib/python3.6/dist-packages (from cliff->optuna) (2.4.7)\n",
            "Collecting cmd2!=0.8.3,>=0.8.0\n",
            "\u001b[?25l  Downloading https://files.pythonhosted.org/packages/27/54/af6e2703f064485d717cb311d3f9440cd302a823ba6d80a020b59eae166d/cmd2-1.4.0-py3-none-any.whl (133kB)\n",
            "\u001b[K     |████████████████████████████████| 133kB 55.9MB/s \n",
            "\u001b[?25hCollecting pbr!=2.1.0,>=2.0.0\n",
            "\u001b[?25l  Downloading https://files.pythonhosted.org/packages/fb/48/69046506f6ac61c1eaa9a0d42d22d54673b69e176d30ca98e3f61513e980/pbr-5.5.1-py2.py3-none-any.whl (106kB)\n",
            "\u001b[K     |████████████████████████████████| 112kB 57.0MB/s \n",
            "\u001b[?25hRequirement already satisfied: PyYAML>=3.12 in /usr/local/lib/python3.6/dist-packages (from cliff->optuna) (3.13)\n",
            "Collecting stevedore>=2.0.1\n",
            "\u001b[?25l  Downloading https://files.pythonhosted.org/packages/d4/49/b602307aeac3df3384ff1fcd05da9c0376c622a6c48bb5325f28ab165b57/stevedore-3.3.0-py3-none-any.whl (49kB)\n",
            "\u001b[K     |████████████████████████████████| 51kB 8.5MB/s \n",
            "\u001b[?25hRequirement already satisfied: six>=1.10.0 in /usr/local/lib/python3.6/dist-packages (from cliff->optuna) (1.15.0)\n",
            "Collecting PrettyTable<0.8,>=0.7.2\n",
            "  Downloading https://files.pythonhosted.org/packages/ef/30/4b0746848746ed5941f052479e7c23d2b56d174b82f4fd34a25e389831f5/prettytable-0.7.2.tar.bz2\n",
            "Requirement already satisfied: MarkupSafe>=0.9.2 in /usr/local/lib/python3.6/dist-packages (from Mako->alembic->optuna) (1.1.1)\n",
            "Requirement already satisfied: attrs>=16.3.0 in /usr/local/lib/python3.6/dist-packages (from cmd2!=0.8.3,>=0.8.0->cliff->optuna) (20.3.0)\n",
            "Requirement already satisfied: importlib-metadata>=1.6.0; python_version < \"3.8\" in /usr/local/lib/python3.6/dist-packages (from cmd2!=0.8.3,>=0.8.0->cliff->optuna) (2.0.0)\n",
            "Collecting colorama>=0.3.7\n",
            "  Downloading https://files.pythonhosted.org/packages/44/98/5b86278fbbf250d239ae0ecb724f8572af1c91f4a11edf4d36a206189440/colorama-0.4.4-py2.py3-none-any.whl\n",
            "Collecting pyperclip>=1.6\n",
            "  Downloading https://files.pythonhosted.org/packages/6f/4c/0b1d507ad7e8bc31d690d04b4f475e74c2002d060f7994ce8c09612df707/pyperclip-1.8.1.tar.gz\n",
            "Requirement already satisfied: wcwidth>=0.1.7 in /usr/local/lib/python3.6/dist-packages (from cmd2!=0.8.3,>=0.8.0->cliff->optuna) (0.2.5)\n",
            "Requirement already satisfied: zipp>=0.5 in /usr/local/lib/python3.6/dist-packages (from importlib-metadata>=1.6.0; python_version < \"3.8\"->cmd2!=0.8.3,>=0.8.0->cliff->optuna) (3.4.0)\n",
            "Building wheels for collected packages: optuna\n",
            "  Building wheel for optuna (PEP 517) ... \u001b[?25l\u001b[?25hdone\n",
            "  Created wheel for optuna: filename=optuna-2.3.0-cp36-none-any.whl size=359761 sha256=995ca84a34ff5804a886d775825a23214b9c8f2c529458cf58c4e55331e1e707\n",
            "  Stored in directory: /root/.cache/pip/wheels/fa/91/19/64b0ec6b964f89c0695a9dc6db6f851d0b54c5381a5c9cadfb\n",
            "Successfully built optuna\n",
            "Building wheels for collected packages: PrettyTable, pyperclip\n",
            "  Building wheel for PrettyTable (setup.py) ... \u001b[?25l\u001b[?25hdone\n",
            "  Created wheel for PrettyTable: filename=prettytable-0.7.2-cp36-none-any.whl size=13700 sha256=5518753898be0df5ea7dc5374b93d55e1fd92be831963e1d05ba1ab3671b1700\n",
            "  Stored in directory: /root/.cache/pip/wheels/80/34/1c/3967380d9676d162cb59513bd9dc862d0584e045a162095606\n",
            "  Building wheel for pyperclip (setup.py) ... \u001b[?25l\u001b[?25hdone\n",
            "  Created wheel for pyperclip: filename=pyperclip-1.8.1-cp36-none-any.whl size=11119 sha256=2b3511f0f7ffae0b57cc7d6cf6eaf4ef03e4e9f25e5400f9951e8c4cec39eb12\n",
            "  Stored in directory: /root/.cache/pip/wheels/44/10/3a/c830e9bb3db2c93274ea1f213a41fabde0d8cf3794251fad0c\n",
            "Successfully built PrettyTable pyperclip\n",
            "Installing collected packages: python-editor, Mako, alembic, cmaes, colorlog, colorama, pyperclip, cmd2, pbr, stevedore, PrettyTable, cliff, optuna\n",
            "  Found existing installation: prettytable 2.0.0\n",
            "    Uninstalling prettytable-2.0.0:\n",
            "      Successfully uninstalled prettytable-2.0.0\n",
            "Successfully installed Mako-1.1.3 PrettyTable-0.7.2 alembic-1.4.3 cliff-3.5.0 cmaes-0.7.0 cmd2-1.4.0 colorama-0.4.4 colorlog-4.6.2 optuna-2.3.0 pbr-5.5.1 pyperclip-1.8.1 python-editor-1.0.4 stevedore-3.3.0\n"
          ],
          "name": "stdout"
        }
      ]
    },
    {
      "cell_type": "code",
      "metadata": {
        "id": "jAY9HAaiSks4"
      },
      "source": [
        "import optuna\n"
      ],
      "execution_count": null,
      "outputs": []
    },
    {
      "cell_type": "markdown",
      "metadata": {
        "id": "qvsAzyjTI3Ie"
      },
      "source": [
        "**1-dimensional data**"
      ]
    },
    {
      "cell_type": "code",
      "metadata": {
        "id": "4fEyq6reI8Vi",
        "colab": {
          "base_uri": "https://localhost:8080/"
        },
        "outputId": "354ee0b1-ba00-4344-d560-8e5e1c15457c"
      },
      "source": [
        "def funct(x):\n",
        "  return x*x*np.sin(x)+np.log(2*x)\n",
        "\n",
        "size = 200\n",
        "low=0\n",
        "high=12\n",
        "error=20\n",
        "\n",
        "XX_train = np.random.uniform(low=low, high=high, size=size)\n",
        "XX_test = np.random.uniform(low=low, high=high, size=size)\n",
        "yy_train = funct(XX_train) + np.random.normal(0., error, size)\n",
        "yy_test = funct(XX_test) + np.random.normal(0., error, size)\n",
        "\n",
        "print(XX_train.shape, yy_train.shape)"
      ],
      "execution_count": null,
      "outputs": [
        {
          "output_type": "stream",
          "text": [
            "(200,) (200,)\n"
          ],
          "name": "stdout"
        }
      ]
    },
    {
      "cell_type": "markdown",
      "metadata": {
        "id": "UK9f3EkaNLKy"
      },
      "source": [
        "Plot the function and data"
      ]
    },
    {
      "cell_type": "code",
      "metadata": {
        "id": "Jc4wlpu6NPib",
        "colab": {
          "base_uri": "https://localhost:8080/",
          "height": 522
        },
        "outputId": "38ea2d78-4d7c-407a-d7c5-674129509773"
      },
      "source": [
        "fig = plt.figure(figsize=(7,7))\n",
        "\n",
        "plt.plot(XX_train,yy_train, 'o', color='blue', label='Training points')\n",
        "plt.plot(XX_test,yy_test, 'o', color='green', label='Testing points')\n",
        "\n",
        "points = np.linspace(low, high,num=100)\n",
        "plt.plot(points, funct(points),  color='red', label='Function')\n",
        "plt.legend()\n",
        "\n",
        "\n",
        "plt.show"
      ],
      "execution_count": null,
      "outputs": [
        {
          "output_type": "stream",
          "text": [
            "/usr/local/lib/python3.6/dist-packages/ipykernel_launcher.py:2: RuntimeWarning:\n",
            "\n",
            "divide by zero encountered in log\n",
            "\n"
          ],
          "name": "stderr"
        },
        {
          "output_type": "execute_result",
          "data": {
            "text/plain": [
              "<function matplotlib.pyplot.show>"
            ]
          },
          "metadata": {
            "tags": []
          },
          "execution_count": 5
        },
        {
          "output_type": "display_data",
          "data": {
            "image/png": "[encoded data removed]",
            "text/plain": [
              "<Figure size 504x504 with 1 Axes>"
            ]
          },
          "metadata": {
            "tags": [],
            "needs_background": "light"
          }
        }
      ]
    },
    {
      "cell_type": "markdown",
      "metadata": {
        "id": "CS7hU2fiZHzl"
      },
      "source": [
        "\n",
        "**Preparing the data**\n",
        "\n",
        "It would be problematic to feed into a neural network values that all take wildly different ranges. The network might be able to automatically adapt to such heterogeneous data, but it would definitely make learning more difficult. A widespread best practice to deal with such data is to do feature-wise normalization: for each feature in the input data (a column in the input data matrix), we will subtract the mean of the feature and divide by the standard deviation, so that the feature will be centered around 0 and will have a unit standard deviation. This is easily done in Numpy:\n"
      ]
    },
    {
      "cell_type": "code",
      "metadata": {
        "id": "cNzLzYMFZNab"
      },
      "source": [
        "# Tutaj należy znormalizować dane, i.e. \n",
        "# - odjąć średnią\n",
        "# - podzielić przez odchylenie standardowe\n",
        "\n",
        "# \n",
        "mean = XX_train.mean(axis=0)\n",
        "XX_train_n = XX_train-mean\n",
        "std = XX_train_n.std(axis=0)\n",
        "XX_train_n /= std\n",
        "\n",
        "# to samo dla x_test\n",
        "XX_test_n = XX_test - mean\n",
        "XX_test_n /= std\n",
        "\n",
        "mean1 = yy_train.mean(axis=0)\n",
        "yy_train_n = yy_train-mean1\n",
        "std1 = yy_train_n.std(axis=0)\n",
        "yy_train_n /= std1\n",
        "\n",
        "# to samo dla y_test\n",
        "yy_test_n = yy_test - mean1\n",
        "yy_test_n /= std1\n",
        "\n",
        "# A teraz to samo dla yy_train i yy_test\n",
        "# dopisać to samo dla y"
      ],
      "execution_count": null,
      "outputs": []
    },
    {
      "cell_type": "markdown",
      "metadata": {
        "id": "G1akSHhNWUOI"
      },
      "source": [
        "Define neural network"
      ]
    },
    {
      "cell_type": "code",
      "metadata": {
        "id": "zKnzCxTvWlLF"
      },
      "source": [
        "# Zbudować sieć neuronową, działa: dwie warstwy ukryte, aktywacja relu\n",
        "from keras import models\n",
        "from keras import layers\n",
        "\n"
      ],
      "execution_count": null,
      "outputs": []
    },
    {
      "cell_type": "code",
      "metadata": {
        "id": "kgSfYh8ATMDT"
      },
      "source": [
        "\n",
        "def objective(trial):\n",
        "    units = trial.suggest_discrete_uniform('units', 8, 2048, 1)\n",
        "    dropout = trial.suggest_uniform('dropout', 0, 0.5)\n",
        "    lr = trial.suggest_float('lr',0.0005, 0.002, log=True)\n",
        "    act= trial.suggest_categorical('activation',['relu','sigmoid','linear'])\n",
        "\n",
        "    model0 = Sequential(name='network')\n",
        "    #.....\n",
        "    model0.add(layers.Dense(units, activation=act, input_shape=(1,)))\n",
        "    model0.add(Dropout(dropout))\n",
        "    model0.add(layers.Dense(units, activation=act))\n",
        "    model0.add(Dropout(dropout))\n",
        "    model0.add(layers.Dense(1, activation='linear'))\n",
        "    # early stopping\n",
        "    es = EarlyStopping(monitor='val_loss', mode='min', verbose=1, patience=50 )\n",
        "    \n",
        "    #model0.summary()\n",
        "    opt=optimizers.RMSprop(lr=lr)\n",
        "    model0.compile(optimizer=opt,\n",
        "                       loss='mean_squared_error',\n",
        "                       metrics=['mse'])\n",
        "    history = model0.fit(XX_train_n, yy_train_n,\n",
        "                                     epochs=500,\n",
        "                                     batch_size=128,\n",
        "                                     validation_data=(XX_test_n, yy_test_n),\n",
        "                                     verbose = 0, callbacks=[es])\n",
        "    results = model0.evaluate(XX_test_n, yy_test_n)\n",
        "    return results[0]"
      ],
      "execution_count": null,
      "outputs": []
    },
    {
      "cell_type": "code",
      "metadata": {
        "id": "q7nkLAX2VN6g",
        "colab": {
          "base_uri": "https://localhost:8080/"
        },
        "outputId": "1eb64e38-dff2-4bfa-bfcb-9313b553503c"
      },
      "source": [
        "study = optuna.create_study()\n",
        "study = optuna.create_study(direction='minimize', pruner=optuna.pruners.MedianPruner(), sampler=optuna.samplers.TPESampler() )\n",
        "\n",
        "study.optimize(objective, n_trials=20)\n",
        "\n",
        "study.best_params \n"
      ],
      "execution_count": null,
      "outputs": [
        {
          "output_type": "stream",
          "text": [
            "\u001b[32m[I 2020-12-08 09:02:20,237]\u001b[0m A new study created in memory with name: no-name-fa8fb262-c14c-4b7d-9d93-e70a67e8bcb1\u001b[0m\n",
            "\u001b[32m[I 2020-12-08 09:02:20,240]\u001b[0m A new study created in memory with name: no-name-0d0a795f-7e35-4f99-8d15-68ba3ace17d9\u001b[0m\n"
          ],
          "name": "stderr"
        },
        {
          "output_type": "stream",
          "text": [
            "7/7 [==============================] - 0s 2ms/step - loss: 0.4333 - mse: 0.4333\n"
          ],
          "name": "stdout"
        },
        {
          "output_type": "stream",
          "text": [
            "\u001b[32m[I 2020-12-08 09:02:37,631]\u001b[0m Trial 0 finished with value: 0.4332802891731262 and parameters: {'units': 1227.0, 'dropout': 0.17380375790216618, 'lr': 0.0007015071924956261, 'activation': 'sigmoid'}. Best is trial 0 with value: 0.4332802891731262.\u001b[0m\n"
          ],
          "name": "stderr"
        },
        {
          "output_type": "stream",
          "text": [
            "Epoch 00445: early stopping\n",
            "7/7 [==============================] - 0s 2ms/step - loss: 0.1830 - mse: 0.1830\n"
          ],
          "name": "stdout"
        },
        {
          "output_type": "stream",
          "text": [
            "\u001b[32m[I 2020-12-08 09:02:46,824]\u001b[0m Trial 1 finished with value: 0.18299436569213867 and parameters: {'units': 1359.0, 'dropout': 0.04488649305893727, 'lr': 0.0007605771783184938, 'activation': 'relu'}. Best is trial 1 with value: 0.18299436569213867.\u001b[0m\n"
          ],
          "name": "stderr"
        },
        {
          "output_type": "stream",
          "text": [
            "Epoch 00066: early stopping\n",
            "7/7 [==============================] - 0s 2ms/step - loss: 0.8803 - mse: 0.8803\n"
          ],
          "name": "stdout"
        },
        {
          "output_type": "stream",
          "text": [
            "\u001b[32m[I 2020-12-08 09:02:48,636]\u001b[0m Trial 2 finished with value: 0.8802750110626221 and parameters: {'units': 364.0, 'dropout': 0.18306407640570393, 'lr': 0.0008278045437835421, 'activation': 'linear'}. Best is trial 1 with value: 0.18299436569213867.\u001b[0m\n"
          ],
          "name": "stderr"
        },
        {
          "output_type": "stream",
          "text": [
            "7/7 [==============================] - 0s 2ms/step - loss: 0.4593 - mse: 0.4593\n"
          ],
          "name": "stdout"
        },
        {
          "output_type": "stream",
          "text": [
            "\u001b[32m[I 2020-12-08 09:02:58,362]\u001b[0m Trial 3 finished with value: 0.4593106806278229 and parameters: {'units': 396.0, 'dropout': 0.3194048202241112, 'lr': 0.0006134314741018276, 'activation': 'sigmoid'}. Best is trial 1 with value: 0.18299436569213867.\u001b[0m\n"
          ],
          "name": "stderr"
        },
        {
          "output_type": "stream",
          "text": [
            "Epoch 00078: early stopping\n",
            "7/7 [==============================] - 0s 2ms/step - loss: 0.7876 - mse: 0.7876\n"
          ],
          "name": "stdout"
        },
        {
          "output_type": "stream",
          "text": [
            "\u001b[32m[I 2020-12-08 09:03:00,556]\u001b[0m Trial 4 finished with value: 0.7875985503196716 and parameters: {'units': 22.0, 'dropout': 0.07684481117891878, 'lr': 0.0007887661081866408, 'activation': 'linear'}. Best is trial 1 with value: 0.18299436569213867.\u001b[0m\n"
          ],
          "name": "stderr"
        },
        {
          "output_type": "stream",
          "text": [
            "7/7 [==============================] - 0s 2ms/step - loss: 0.4148 - mse: 0.4148\n"
          ],
          "name": "stdout"
        },
        {
          "output_type": "stream",
          "text": [
            "\u001b[32m[I 2020-12-08 09:03:11,541]\u001b[0m Trial 5 finished with value: 0.414757639169693 and parameters: {'units': 1786.0, 'dropout': 0.396345411126877, 'lr': 0.0005646169784096245, 'activation': 'sigmoid'}. Best is trial 1 with value: 0.18299436569213867.\u001b[0m\n"
          ],
          "name": "stderr"
        },
        {
          "output_type": "stream",
          "text": [
            "Epoch 00304: early stopping\n",
            "7/7 [==============================] - 0s 2ms/step - loss: 0.2230 - mse: 0.2230\n"
          ],
          "name": "stdout"
        },
        {
          "output_type": "stream",
          "text": [
            "\u001b[32m[I 2020-12-08 09:03:17,891]\u001b[0m Trial 6 finished with value: 0.22299791872501373 and parameters: {'units': 1062.0, 'dropout': 0.4675230430420711, 'lr': 0.0016505103724656464, 'activation': 'relu'}. Best is trial 1 with value: 0.18299436569213867.\u001b[0m\n"
          ],
          "name": "stderr"
        },
        {
          "output_type": "stream",
          "text": [
            "Epoch 00079: early stopping\n",
            "7/7 [==============================] - 0s 2ms/step - loss: 1.1144 - mse: 1.1144\n"
          ],
          "name": "stdout"
        },
        {
          "output_type": "stream",
          "text": [
            "\u001b[32m[I 2020-12-08 09:03:20,100]\u001b[0m Trial 7 finished with value: 1.1143513917922974 and parameters: {'units': 1633.0, 'dropout': 0.15746498060150455, 'lr': 0.0011174520679130221, 'activation': 'sigmoid'}. Best is trial 1 with value: 0.18299436569213867.\u001b[0m\n"
          ],
          "name": "stderr"
        },
        {
          "output_type": "stream",
          "text": [
            "Epoch 00301: early stopping\n",
            "7/7 [==============================] - 0s 2ms/step - loss: 0.2127 - mse: 0.2127\n"
          ],
          "name": "stdout"
        },
        {
          "output_type": "stream",
          "text": [
            "\u001b[32m[I 2020-12-08 09:03:26,274]\u001b[0m Trial 8 finished with value: 0.21269717812538147 and parameters: {'units': 852.0, 'dropout': 0.08091360438686496, 'lr': 0.0014568214737061388, 'activation': 'relu'}. Best is trial 1 with value: 0.18299436569213867.\u001b[0m\n"
          ],
          "name": "stderr"
        },
        {
          "output_type": "stream",
          "text": [
            "Epoch 00317: early stopping\n",
            "7/7 [==============================] - 0s 2ms/step - loss: 0.1766 - mse: 0.1766\n"
          ],
          "name": "stdout"
        },
        {
          "output_type": "stream",
          "text": [
            "\u001b[32m[I 2020-12-08 09:03:32,607]\u001b[0m Trial 9 finished with value: 0.17662768065929413 and parameters: {'units': 284.0, 'dropout': 0.34513640702591275, 'lr': 0.0006394904804291686, 'activation': 'relu'}. Best is trial 9 with value: 0.17662768065929413.\u001b[0m\n"
          ],
          "name": "stderr"
        },
        {
          "output_type": "stream",
          "text": [
            "Epoch 00445: early stopping\n",
            "7/7 [==============================] - 0s 2ms/step - loss: 0.1822 - mse: 0.1822\n"
          ],
          "name": "stdout"
        },
        {
          "output_type": "stream",
          "text": [
            "\u001b[32m[I 2020-12-08 09:03:41,367]\u001b[0m Trial 10 finished with value: 0.18222694098949432 and parameters: {'units': 50.0, 'dropout': 0.3073688434046412, 'lr': 0.0011173775554908633, 'activation': 'relu'}. Best is trial 9 with value: 0.17662768065929413.\u001b[0m\n"
          ],
          "name": "stderr"
        },
        {
          "output_type": "stream",
          "text": [
            "Epoch 00341: early stopping\n",
            "7/7 [==============================] - 0s 2ms/step - loss: 0.1854 - mse: 0.1854\n"
          ],
          "name": "stdout"
        },
        {
          "output_type": "stream",
          "text": [
            "\u001b[32m[I 2020-12-08 09:03:48,260]\u001b[0m Trial 11 finished with value: 0.18543581664562225 and parameters: {'units': 165.0, 'dropout': 0.3026786313416848, 'lr': 0.0011273691391623425, 'activation': 'relu'}. Best is trial 9 with value: 0.17662768065929413.\u001b[0m\n"
          ],
          "name": "stderr"
        },
        {
          "output_type": "stream",
          "text": [
            "Epoch 00254: early stopping\n",
            "7/7 [==============================] - 0s 2ms/step - loss: 0.2300 - mse: 0.2300\n"
          ],
          "name": "stdout"
        },
        {
          "output_type": "stream",
          "text": [
            "\u001b[32m[I 2020-12-08 09:03:53,488]\u001b[0m Trial 12 finished with value: 0.23000779747962952 and parameters: {'units': 665.0, 'dropout': 0.37687075138392434, 'lr': 0.001319993367082628, 'activation': 'relu'}. Best is trial 9 with value: 0.17662768065929413.\u001b[0m\n"
          ],
          "name": "stderr"
        },
        {
          "output_type": "stream",
          "text": [
            "7/7 [==============================] - 0s 2ms/step - loss: 0.2151 - mse: 0.2151\n"
          ],
          "name": "stdout"
        },
        {
          "output_type": "stream",
          "text": [
            "\u001b[32m[I 2020-12-08 09:04:03,255]\u001b[0m Trial 13 finished with value: 0.21506553888320923 and parameters: {'units': 36.0, 'dropout': 0.48091268067560355, 'lr': 0.0009484265168005127, 'activation': 'relu'}. Best is trial 9 with value: 0.17662768065929413.\u001b[0m\n"
          ],
          "name": "stderr"
        },
        {
          "output_type": "stream",
          "text": [
            "Epoch 00215: early stopping\n",
            "7/7 [==============================] - 0s 2ms/step - loss: 0.2658 - mse: 0.2658\n"
          ],
          "name": "stdout"
        },
        {
          "output_type": "stream",
          "text": [
            "\u001b[32m[I 2020-12-08 09:04:08,167]\u001b[0m Trial 14 finished with value: 0.2657901346683502 and parameters: {'units': 550.0, 'dropout': 0.2550563308257764, 'lr': 0.001981819449972788, 'activation': 'relu'}. Best is trial 9 with value: 0.17662768065929413.\u001b[0m\n"
          ],
          "name": "stderr"
        },
        {
          "output_type": "stream",
          "text": [
            "Epoch 00425: early stopping\n",
            "7/7 [==============================] - 0s 2ms/step - loss: 0.1719 - mse: 0.1719\n"
          ],
          "name": "stdout"
        },
        {
          "output_type": "stream",
          "text": [
            "\u001b[32m[I 2020-12-08 09:04:16,605]\u001b[0m Trial 15 finished with value: 0.1718866527080536 and parameters: {'units': 247.0, 'dropout': 0.38781704630157277, 'lr': 0.0005137233527418302, 'activation': 'relu'}. Best is trial 15 with value: 0.1718866527080536.\u001b[0m\n"
          ],
          "name": "stderr"
        },
        {
          "output_type": "stream",
          "text": [
            "Epoch 00054: early stopping\n",
            "7/7 [==============================] - 0s 2ms/step - loss: 0.7916 - mse: 0.7916\n"
          ],
          "name": "stdout"
        },
        {
          "output_type": "stream",
          "text": [
            "\u001b[32m[I 2020-12-08 09:04:18,214]\u001b[0m Trial 16 finished with value: 0.7916419506072998 and parameters: {'units': 321.0, 'dropout': 0.41756196921213, 'lr': 0.0005067243636078746, 'activation': 'linear'}. Best is trial 15 with value: 0.1718866527080536.\u001b[0m\n"
          ],
          "name": "stderr"
        },
        {
          "output_type": "stream",
          "text": [
            "Epoch 00376: early stopping\n",
            "7/7 [==============================] - 0s 2ms/step - loss: 0.1732 - mse: 0.1732\n"
          ],
          "name": "stdout"
        },
        {
          "output_type": "stream",
          "text": [
            "\u001b[32m[I 2020-12-08 09:04:25,737]\u001b[0m Trial 17 finished with value: 0.17317436635494232 and parameters: {'units': 746.0, 'dropout': 0.3548432052856984, 'lr': 0.0006257517218698494, 'activation': 'relu'}. Best is trial 15 with value: 0.1718866527080536.\u001b[0m\n"
          ],
          "name": "stderr"
        },
        {
          "output_type": "stream",
          "text": [
            "Epoch 00440: early stopping\n",
            "7/7 [==============================] - 0s 2ms/step - loss: 0.1807 - mse: 0.1807\n"
          ],
          "name": "stdout"
        },
        {
          "output_type": "stream",
          "text": [
            "\u001b[32m[I 2020-12-08 09:04:34,522]\u001b[0m Trial 18 finished with value: 0.18073402345180511 and parameters: {'units': 807.0, 'dropout': 0.4469278334439696, 'lr': 0.0005006968550666952, 'activation': 'relu'}. Best is trial 15 with value: 0.1718866527080536.\u001b[0m\n"
          ],
          "name": "stderr"
        },
        {
          "output_type": "stream",
          "text": [
            "7/7 [==============================] - 0s 3ms/step - loss: 0.1682 - mse: 0.1682\n"
          ],
          "name": "stdout"
        },
        {
          "output_type": "stream",
          "text": [
            "\u001b[32m[I 2020-12-08 09:04:44,373]\u001b[0m Trial 19 finished with value: 0.16822639107704163 and parameters: {'units': 611.0, 'dropout': 0.2611887256169342, 'lr': 0.0005053733918446076, 'activation': 'relu'}. Best is trial 19 with value: 0.16822639107704163.\u001b[0m\n"
          ],
          "name": "stderr"
        },
        {
          "output_type": "execute_result",
          "data": {
            "text/plain": [
              "{'activation': 'relu',\n",
              " 'dropout': 0.2611887256169342,\n",
              " 'lr': 0.0005053733918446076,\n",
              " 'units': 611.0}"
            ]
          },
          "metadata": {
            "tags": []
          },
          "execution_count": 13
        }
      ]
    },
    {
      "cell_type": "markdown",
      "metadata": {
        "id": "jRePUL7XWQtC"
      },
      "source": [
        "## Visualizing the Optimization History"
      ]
    },
    {
      "cell_type": "code",
      "metadata": {
        "id": "2K0KNXBIWQtC"
      },
      "source": [
        "from optuna.visualization import plot_optimization_history\n",
        "\n",
        "plot_optimization_history(study)"
      ],
      "execution_count": null,
      "outputs": []
    },
    {
      "cell_type": "markdown",
      "metadata": {
        "id": "OeL4FGcZWQtE"
      },
      "source": [
        "## Visualizing High-dimensional Parameter Relationships"
      ]
    },
    {
      "cell_type": "code",
      "metadata": {
        "id": "aq42Sf07WQtF"
      },
      "source": [
        "from optuna.visualization import plot_parallel_coordinate\n",
        "\n",
        "plot_parallel_coordinate(study, params=['units', 'dropout'])"
      ],
      "execution_count": null,
      "outputs": []
    },
    {
      "cell_type": "markdown",
      "metadata": {
        "id": "P0dTS1crWQtF"
      },
      "source": [
        "## Visualizing Parameter Relationships"
      ]
    },
    {
      "cell_type": "code",
      "metadata": {
        "id": "q2cxMKtkWQtF"
      },
      "source": [
        "from optuna.visualization import plot_contour\n",
        "\n",
        "plot_contour(study)"
      ],
      "execution_count": null,
      "outputs": []
    },
    {
      "cell_type": "markdown",
      "metadata": {
        "id": "csdeTh8YWQtF"
      },
      "source": [
        "### Selecting Parameters to Visualize"
      ]
    },
    {
      "cell_type": "code",
      "metadata": {
        "id": "kMn2JiwzWQtF"
      },
      "source": [
        "plot_contour(study, params=['units', 'dropout'])"
      ],
      "execution_count": null,
      "outputs": []
    },
    {
      "cell_type": "markdown",
      "metadata": {
        "id": "LgJwzjCaWQtF"
      },
      "source": [
        "## Visualizing Individual Parameters"
      ]
    },
    {
      "cell_type": "code",
      "metadata": {
        "id": "YgV8JzH7WQtF"
      },
      "source": [
        "from optuna.visualization import plot_slice\n",
        "\n",
        "plot_slice(study)"
      ],
      "execution_count": null,
      "outputs": []
    },
    {
      "cell_type": "markdown",
      "metadata": {
        "id": "kcRm3F6mWQtF"
      },
      "source": [
        "### Selecting Parameters to Visualize"
      ]
    },
    {
      "cell_type": "code",
      "metadata": {
        "id": "xtWB263PWQtF"
      },
      "source": [
        "plot_slice(study, params=['units', 'dropout'])"
      ],
      "execution_count": null,
      "outputs": []
    },
    {
      "cell_type": "markdown",
      "metadata": {
        "id": "pRuVvWaoWQtF"
      },
      "source": [
        "## Visualizing Parameter Importances"
      ]
    },
    {
      "cell_type": "code",
      "metadata": {
        "id": "akCMURHCWQtF"
      },
      "source": [
        "from optuna.visualization import plot_param_importances\n",
        "\n",
        "plot_param_importances(study)"
      ],
      "execution_count": null,
      "outputs": []
    },
    {
      "cell_type": "code",
      "metadata": {
        "id": "a26yUQxMdv7C"
      },
      "source": [
        "trial = study.best_trial\n",
        "units = int(trial.params.get('units'))\n",
        "dropout = (trial.params.get('dropout'))\n",
        "print(units)\n",
        "print(dropout)"
      ],
      "execution_count": null,
      "outputs": []
    },
    {
      "cell_type": "code",
      "metadata": {
        "id": "kjQmyDsBfljm"
      },
      "source": [
        "model0 = Sequential(name='network')\n",
        "    #.....\n",
        "model0.add(layers.Dense(units, activation='relu', input_shape=(1,)))\n",
        "model0.add(Dropout(dropout))\n",
        "model0.add(layers.Dense(units, activation='relu'))\n",
        "model0.add(Dropout(dropout))\n",
        "model0.add(layers.Dense(1, activation='linear'))\n",
        "# early stopping\n",
        "es = EarlyStopping(monitor='val_loss', mode='min', verbose=1, patience=50 )\n",
        "    \n",
        "#model0.summary()\n",
        "opt=optimizers.RMSprop(lr=0.001)\n",
        "model0.compile(optimizer=opt,\n",
        "                       loss='mean_squared_error',\n",
        "                       metrics=['mse'])\n",
        "history = model0.fit(XX_train_n, yy_train_n,\n",
        "                                     epochs=500,\n",
        "                                     batch_size=128,\n",
        "                                     validation_data=(XX_test_n, yy_test_n),\n",
        "                                     verbose = 0, callbacks=[es])\n",
        "results = model0.evaluate(XX_test_n, yy_test_n)"
      ],
      "execution_count": null,
      "outputs": []
    },
    {
      "cell_type": "markdown",
      "metadata": {
        "id": "0l8g2s4Ogwt7"
      },
      "source": [
        "Plot loss"
      ]
    },
    {
      "cell_type": "code",
      "metadata": {
        "id": "ksInevx1gt33"
      },
      "source": [
        "def plot_loss(history):\n",
        "  plt.plot(history.history['loss'], label='loss')\n",
        "  plt.plot(history.history['val_loss'], label='val_loss')\n",
        "  plt.ylim([0, 1.5])\n",
        "  plt.xlabel('Epoch')\n",
        "  plt.ylabel('Error ')\n",
        "  plt.legend()\n",
        "  plt.grid(True)\n",
        "\n",
        "plot_loss(history)\n"
      ],
      "execution_count": null,
      "outputs": []
    },
    {
      "cell_type": "markdown",
      "metadata": {
        "id": "UhWj-M9sWa1A"
      },
      "source": [
        "Evaluate neural network"
      ]
    },
    {
      "cell_type": "code",
      "metadata": {
        "id": "wAGobBA6XfTt"
      },
      "source": [
        "results = model0.evaluate(XX_test_n, yy_test_n)\n",
        "\n",
        "print('loss test data: ', results[0])\n",
        "print('mse test data: ', results[1])\n",
        "\n",
        "results = model0.evaluate(XX_train_n, yy_train_n)\n",
        "\n",
        "print('loss train data: ', results[0])\n",
        "print('mse train data: ', results[1])"
      ],
      "execution_count": null,
      "outputs": []
    },
    {
      "cell_type": "markdown",
      "metadata": {
        "id": "8qv-t09rWgT8"
      },
      "source": [
        "Plot results"
      ]
    },
    {
      "cell_type": "code",
      "metadata": {
        "id": "JwHkHPnzvD_z"
      },
      "source": [
        "fig = plt.figure(figsize=(7,7))\n",
        "\n",
        "plt.plot(XX_train_n,yy_train_n, 'o', color='blue', label='Training points')\n",
        "plt.plot(XX_test_n,yy_test_n, 'o', color='green', label='Testing points')\n",
        "\n",
        "points = np.linspace(min(XX_test_n), max(XX_test_n),num=100)\n",
        "plt.plot(points, (funct(points*std+mean)-mean1)/std1,  color='red', label='Function')\n",
        "\n",
        "plt.plot(points, model0.predict(points),  color='orange', label='Neural net')\n",
        "\n",
        "\n",
        "plt.legend()\n",
        "\n",
        "\n",
        "plt.show"
      ],
      "execution_count": null,
      "outputs": []
    }
  ]
}